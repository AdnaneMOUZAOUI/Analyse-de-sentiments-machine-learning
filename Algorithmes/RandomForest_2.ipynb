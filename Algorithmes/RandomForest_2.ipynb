{
  "cells": [
    {
      "cell_type": "markdown",
      "metadata": {
        "id": "view-in-github",
        "colab_type": "text"
      },
      "source": [
        "<a href=\"https://colab.research.google.com/github/AdnaneMOUZAOUI/Analyse-de-sentiments-machine-learning/blob/Reviews-Analysis/RandomForest_2.ipynb\" target=\"_parent\"><img src=\"https://colab.research.google.com/assets/colab-badge.svg\" alt=\"Open In Colab\"/></a>"
      ]
    },
    {
      "cell_type": "code",
      "execution_count": null,
      "metadata": {
        "id": "3BS0CV6DLHud"
      },
      "outputs": [],
      "source": [
        "# Travaille sur les commentaires seuls sans les titres."
      ]
    },
    {
      "cell_type": "code",
      "execution_count": null,
      "metadata": {
        "id": "m3_S6vX_LHuf"
      },
      "outputs": [],
      "source": [
        "# Importer le fichier depuis le drive\n",
        "import pandas as pd\n",
        "import numpy as np\n",
        "import matplotlib.pyplot as plt\n",
        "%matplotlib inline\n",
        "import seaborn as sns\n",
        "import nltk\n",
        "import re\n",
        "from sklearn.feature_selection import VarianceThreshold, SelectKBest, SelectFromModel, f_regression, mutual_info_regression, RFE, RFECV\n",
        "from sklearn.model_selection import train_test_split, KFold, GridSearchCV\n",
        "from sklearn.linear_model import LinearRegression, Lasso\n",
        "from sklearn.preprocessing import MinMaxScaler\n",
        "from sklearn.preprocessing import StandardScaler\n",
        "from sklearn.decomposition import PCA\n",
        "from sklearn.discriminant_analysis import LinearDiscriminantAnalysis as LDA\n",
        "from sklearn.ensemble import RandomForestClassifier\n",
        "from sklearn.cluster import KMeans\n",
        "from sklearn.metrics import accuracy_score, f1_score, classification_report\n",
        "from imblearn.over_sampling import RandomOverSampler, SMOTE"
      ]
    },
    {
      "cell_type": "code",
      "execution_count": null,
      "metadata": {
        "id": "YALtptyRLHug",
        "outputId": "df5103dc-e511-49fc-d807-cfc0db63b5de"
      },
      "outputs": [
        {
          "data": {
            "text/html": [
              "<div>\n",
              "<style scoped>\n",
              "    .dataframe tbody tr th:only-of-type {\n",
              "        vertical-align: middle;\n",
              "    }\n",
              "\n",
              "    .dataframe tbody tr th {\n",
              "        vertical-align: top;\n",
              "    }\n",
              "\n",
              "    .dataframe thead th {\n",
              "        text-align: right;\n",
              "    }\n",
              "</style>\n",
              "<table border=\"1\" class=\"dataframe\">\n",
              "  <thead>\n",
              "    <tr style=\"text-align: right;\">\n",
              "      <th></th>\n",
              "      <th>client</th>\n",
              "      <th>star</th>\n",
              "      <th>date_commande</th>\n",
              "      <th>date</th>\n",
              "      <th>nbr_avis</th>\n",
              "      <th>Commentaire</th>\n",
              "      <th>pays</th>\n",
              "      <th>Titre</th>\n",
              "      <th>longueur</th>\n",
              "      <th>majuscule</th>\n",
              "      <th>...</th>\n",
              "      <th>ngrams_3_('délai', 'livraison', 'respecté').1</th>\n",
              "      <th>ngrams_3_('très', 'bon', 'produit').1</th>\n",
              "      <th>ngrams_3_('livraison', 'peu', 'longue').1</th>\n",
              "      <th>ngrams_3_('délai', 'livraison', 'trop').1</th>\n",
              "      <th>ngrams_3_('livraison', 'trop', 'longue').1</th>\n",
              "      <th>ngrams_3_('livraison', 'beaucoup', 'trop').1</th>\n",
              "      <th>ngrams_3_('entre', 'commande', 'livraison').1</th>\n",
              "      <th>ngrams_3_('bon', 'rapport', 'qualité').1</th>\n",
              "      <th>ngrams_3_('délais', 'livraison', 'trop').1</th>\n",
              "      <th>ngrams_3_('plus', 'dun', 'mois').1</th>\n",
              "    </tr>\n",
              "  </thead>\n",
              "  <tbody>\n",
              "    <tr>\n",
              "      <th>0</th>\n",
              "      <td>Agani</td>\n",
              "      <td>1.0</td>\n",
              "      <td>: 26 août 2022</td>\n",
              "      <td>2023-02-27</td>\n",
              "      <td>2.0</td>\n",
              "      <td>['jamais', 'reçu', 'commande', 'écris', 'showr...</td>\n",
              "      <td>FR</td>\n",
              "      <td>Je n’ai jamais reçu ma commande</td>\n",
              "      <td>427</td>\n",
              "      <td>7</td>\n",
              "      <td>...</td>\n",
              "      <td>0</td>\n",
              "      <td>0</td>\n",
              "      <td>0</td>\n",
              "      <td>0</td>\n",
              "      <td>0</td>\n",
              "      <td>0</td>\n",
              "      <td>0</td>\n",
              "      <td>0</td>\n",
              "      <td>0</td>\n",
              "      <td>0</td>\n",
              "    </tr>\n",
              "    <tr>\n",
              "      <th>1</th>\n",
              "      <td>CHANTAL SLATKINE</td>\n",
              "      <td>1.0</td>\n",
              "      <td>: 26 février 2023</td>\n",
              "      <td>2023-02-27</td>\n",
              "      <td>2.0</td>\n",
              "      <td>['commandé', 'collier', 'lun', 'ok', 'lautre',...</td>\n",
              "      <td>FR</td>\n",
              "      <td>J'ai commandé 2 colliers</td>\n",
              "      <td>537</td>\n",
              "      <td>13</td>\n",
              "      <td>...</td>\n",
              "      <td>0</td>\n",
              "      <td>0</td>\n",
              "      <td>0</td>\n",
              "      <td>0</td>\n",
              "      <td>0</td>\n",
              "      <td>0</td>\n",
              "      <td>0</td>\n",
              "      <td>0</td>\n",
              "      <td>0</td>\n",
              "      <td>0</td>\n",
              "    </tr>\n",
              "    <tr>\n",
              "      <th>2</th>\n",
              "      <td>LDC</td>\n",
              "      <td>1.0</td>\n",
              "      <td>: 26 février 2023</td>\n",
              "      <td>2023-02-27</td>\n",
              "      <td>2.0</td>\n",
              "      <td>['commandé', 'airpods', 'reconditionnés', 'dit...</td>\n",
              "      <td>FR</td>\n",
              "      <td>Très déçue de la dernière commande.</td>\n",
              "      <td>563</td>\n",
              "      <td>8</td>\n",
              "      <td>...</td>\n",
              "      <td>0</td>\n",
              "      <td>0</td>\n",
              "      <td>0</td>\n",
              "      <td>0</td>\n",
              "      <td>0</td>\n",
              "      <td>0</td>\n",
              "      <td>0</td>\n",
              "      <td>0</td>\n",
              "      <td>0</td>\n",
              "      <td>0</td>\n",
              "    </tr>\n",
              "    <tr>\n",
              "      <th>3</th>\n",
              "      <td>anass jeffal</td>\n",
              "      <td>1.0</td>\n",
              "      <td>: 27 octobre 2022</td>\n",
              "      <td>2023-02-27</td>\n",
              "      <td>1.0</td>\n",
              "      <td>['produit', 'acheté', 'septembre', 'retourné',...</td>\n",
              "      <td>FR</td>\n",
              "      <td>Produit acheté en Septembre 2022…</td>\n",
              "      <td>612</td>\n",
              "      <td>6</td>\n",
              "      <td>...</td>\n",
              "      <td>0</td>\n",
              "      <td>0</td>\n",
              "      <td>0</td>\n",
              "      <td>0</td>\n",
              "      <td>0</td>\n",
              "      <td>0</td>\n",
              "      <td>0</td>\n",
              "      <td>0</td>\n",
              "      <td>0</td>\n",
              "      <td>0</td>\n",
              "    </tr>\n",
              "    <tr>\n",
              "      <th>4</th>\n",
              "      <td>aurélien</td>\n",
              "      <td>1.0</td>\n",
              "      <td>: 27 février 2023</td>\n",
              "      <td>2023-02-27</td>\n",
              "      <td>1.0</td>\n",
              "      <td>['encore', 'commande', 'partiellement', 'annul...</td>\n",
              "      <td>FR</td>\n",
              "      <td>encore une commande partiellement…</td>\n",
              "      <td>405</td>\n",
              "      <td>2</td>\n",
              "      <td>...</td>\n",
              "      <td>0</td>\n",
              "      <td>0</td>\n",
              "      <td>0</td>\n",
              "      <td>0</td>\n",
              "      <td>0</td>\n",
              "      <td>0</td>\n",
              "      <td>0</td>\n",
              "      <td>0</td>\n",
              "      <td>0</td>\n",
              "      <td>0</td>\n",
              "    </tr>\n",
              "  </tbody>\n",
              "</table>\n",
              "<p>5 rows × 115 columns</p>\n",
              "</div>"
            ],
            "text/plain": [
              "             client  star      date_commande        date  nbr_avis  \\\n",
              "0             Agani   1.0     : 26 août 2022  2023-02-27       2.0   \n",
              "1  CHANTAL SLATKINE   1.0  : 26 février 2023  2023-02-27       2.0   \n",
              "2               LDC   1.0  : 26 février 2023  2023-02-27       2.0   \n",
              "3      anass jeffal   1.0  : 27 octobre 2022  2023-02-27       1.0   \n",
              "4          aurélien   1.0  : 27 février 2023  2023-02-27       1.0   \n",
              "\n",
              "                                         Commentaire pays  \\\n",
              "0  ['jamais', 'reçu', 'commande', 'écris', 'showr...   FR   \n",
              "1  ['commandé', 'collier', 'lun', 'ok', 'lautre',...   FR   \n",
              "2  ['commandé', 'airpods', 'reconditionnés', 'dit...   FR   \n",
              "3  ['produit', 'acheté', 'septembre', 'retourné',...   FR   \n",
              "4  ['encore', 'commande', 'partiellement', 'annul...   FR   \n",
              "\n",
              "                                 Titre  longueur  majuscule  ...  \\\n",
              "0      Je n’ai jamais reçu ma commande       427          7  ...   \n",
              "1             J'ai commandé 2 colliers       537         13  ...   \n",
              "2  Très déçue de la dernière commande.       563          8  ...   \n",
              "3    Produit acheté en Septembre 2022…       612          6  ...   \n",
              "4   encore une commande partiellement…       405          2  ...   \n",
              "\n",
              "   ngrams_3_('délai', 'livraison', 'respecté').1  \\\n",
              "0                                              0   \n",
              "1                                              0   \n",
              "2                                              0   \n",
              "3                                              0   \n",
              "4                                              0   \n",
              "\n",
              "   ngrams_3_('très', 'bon', 'produit').1  \\\n",
              "0                                      0   \n",
              "1                                      0   \n",
              "2                                      0   \n",
              "3                                      0   \n",
              "4                                      0   \n",
              "\n",
              "  ngrams_3_('livraison', 'peu', 'longue').1  \\\n",
              "0                                         0   \n",
              "1                                         0   \n",
              "2                                         0   \n",
              "3                                         0   \n",
              "4                                         0   \n",
              "\n",
              "  ngrams_3_('délai', 'livraison', 'trop').1  \\\n",
              "0                                         0   \n",
              "1                                         0   \n",
              "2                                         0   \n",
              "3                                         0   \n",
              "4                                         0   \n",
              "\n",
              "   ngrams_3_('livraison', 'trop', 'longue').1  \\\n",
              "0                                           0   \n",
              "1                                           0   \n",
              "2                                           0   \n",
              "3                                           0   \n",
              "4                                           0   \n",
              "\n",
              "   ngrams_3_('livraison', 'beaucoup', 'trop').1  \\\n",
              "0                                             0   \n",
              "1                                             0   \n",
              "2                                             0   \n",
              "3                                             0   \n",
              "4                                             0   \n",
              "\n",
              "   ngrams_3_('entre', 'commande', 'livraison').1  \\\n",
              "0                                              0   \n",
              "1                                              0   \n",
              "2                                              0   \n",
              "3                                              0   \n",
              "4                                              0   \n",
              "\n",
              "   ngrams_3_('bon', 'rapport', 'qualité').1  \\\n",
              "0                                         0   \n",
              "1                                         0   \n",
              "2                                         0   \n",
              "3                                         0   \n",
              "4                                         0   \n",
              "\n",
              "   ngrams_3_('délais', 'livraison', 'trop').1  \\\n",
              "0                                           0   \n",
              "1                                           0   \n",
              "2                                           0   \n",
              "3                                           0   \n",
              "4                                           0   \n",
              "\n",
              "   ngrams_3_('plus', 'dun', 'mois').1  \n",
              "0                                   0  \n",
              "1                                   0  \n",
              "2                                   0  \n",
              "3                                   0  \n",
              "4                                   0  \n",
              "\n",
              "[5 rows x 115 columns]"
            ]
          },
          "metadata": {},
          "output_type": "display_data"
        }
      ],
      "source": [
        "df = pd.read_csv('commentaires_prepares.csv', index_col=[0])\n",
        "display(df.head())\n",
        "df_save=df\n",
        "df=df_save"
      ]
    },
    {
      "cell_type": "code",
      "execution_count": null,
      "metadata": {
        "id": "EgzZ2Y89LHug"
      },
      "outputs": [],
      "source": [
        "\n",
        "# On enlève les colonnes que l'on ne conserve pas pour la modélisation\n",
        "df=df.drop(columns=['client', 'star', 'date_commande', 'date', 'pays', 'Commentaire', 'Titre', 'ngram_2', 'ngram_3'], axis=1)\n",
        "df=df.dropna(axis=0,how='any')\n",
        "\n",
        "\n",
        "\n",
        "# Préparation de la variable cible et des variables explicatives\n",
        "y=df['star_cluster']\n",
        "X=df.drop('star_cluster',1)\n",
        "\n",
        "\n",
        "\n",
        "# Etape Centrer Réduire des variables continues\n",
        "variables_continues=['nbr_avis', 'longueur', 'majuscule', 'ponct', 'nb_mots']\n",
        "\n",
        "scaler = StandardScaler()\n",
        "\n",
        "X.loc[:, variables_continues] = scaler.fit_transform(X.loc[:, variables_continues])\n"
      ]
    },
    {
      "cell_type": "code",
      "execution_count": null,
      "metadata": {
        "id": "pfHxHoARLHuh"
      },
      "outputs": [],
      "source": [
        "# Séparation en un ensemble d'entrainement, et un ensemble de test\n",
        "X_train, X_test, y_train, y_test = train_test_split(X,y,test_size = 0.2, random_state=42)"
      ]
    },
    {
      "cell_type": "code",
      "execution_count": null,
      "metadata": {
        "id": "RH07frv1LHui",
        "outputId": "1260fdbe-ada4-4753-c17f-5ada7a3fefa0"
      },
      "outputs": [
        {
          "name": "stdout",
          "output_type": "stream",
          "text": [
            "Nombre de composantes retenues : 23\n"
          ]
        },
        {
          "data": {
            "image/png": "[encoded data removed]",
            "text/plain": [
              "<Figure size 432x288 with 1 Axes>"
            ]
          },
          "metadata": {
            "needs_background": "light"
          },
          "output_type": "display_data"
        },
        {
          "data": {
            "image/png": "[encoded data removed]",
            "text/plain": [
              "<Figure size 432x288 with 1 Axes>"
            ]
          },
          "metadata": {
            "needs_background": "light"
          },
          "output_type": "display_data"
        }
      ],
      "source": [
        "# Réduction de la dimension via PCA\n",
        "\n",
        "pca = PCA(n_components = 0.9)\n",
        "pca.fit(X)\n",
        "print(\"Nombre de composantes retenues :\", pca.n_components_)\n",
        "X_train_pca = pca.fit_transform(X_train)\n",
        "X_test_pca = pca.transform(X_test)\n",
        "\n",
        "plt.figure()\n",
        "plt.xlim(0,100)\n",
        "plt.plot(pca.explained_variance_ratio_);\n",
        "\n",
        "plt.figure()\n",
        "plt.xlim(0,100)\n",
        "plt.axhline(y = 0.9, color ='r', linestyle = '--')\n",
        "plt.plot(pca.explained_variance_ratio_.cumsum());\n",
        "\n"
      ]
    },
    {
      "cell_type": "code",
      "execution_count": null,
      "metadata": {
        "id": "GrBtoVorLHui",
        "outputId": "7d508f12-8d35-43d0-875a-3a2b0d12f132"
      },
      "outputs": [
        {
          "name": "stdout",
          "output_type": "stream",
          "text": [
            "0.7614198170460937\n",
            "              precision    recall  f1-score   support\n",
            "\n",
            "           0       0.72      0.68      0.70     13717\n",
            "           1       0.79      0.82      0.80     20062\n",
            "\n",
            "    accuracy                           0.76     33779\n",
            "   macro avg       0.75      0.75      0.75     33779\n",
            "weighted avg       0.76      0.76      0.76     33779\n",
            "\n"
          ]
        }
      ],
      "source": [
        "# Test algo classification 1\n",
        "# Ce test se base sur les métadonnées, les compteurs et n_grams 2 et 3 des commentaires uniquement.\n",
        "\n",
        "# RandomForest\n",
        "RFC = RandomForestClassifier(n_jobs = -1)\n",
        "RFC.fit(X_train_pca, y_train)\n",
        "score_rfc=RFC.score(X_test_pca, y_test)\n",
        "print(score_rfc)\n",
        "\n",
        "y_pred=RFC.predict(X_test_pca)\n",
        "print(classification_report(y_test, y_pred))"
      ]
    },
    {
      "cell_type": "code",
      "execution_count": null,
      "metadata": {
        "id": "kYkZ3VJnLHuk",
        "outputId": "21819908-4901-40a0-adba-e0c0fb6aa980"
      },
      "outputs": [
        {
          "data": {
            "text/plain": [
              "(-0.8, 1.5)"
            ]
          },
          "execution_count": 29,
          "metadata": {},
          "output_type": "execute_result"
        },
        {
          "data": {
            "image/png": "[encoded data removed]",
            "text/plain": [
              "<Figure size 936x720 with 1 Axes>"
            ]
          },
          "metadata": {
            "needs_background": "light"
          },
          "output_type": "display_data"
        }
      ],
      "source": [
        "n = X_train.shape[1]\n",
        "\n",
        "coeff = pca.components_.transpose()\n",
        "xs = X_train_pca[:, 0]\n",
        "ys = X_train_pca[:, 1]\n",
        "scalex = 1.0/(xs.max() - xs.min())\n",
        "scaley = 1.0/(ys.max() - ys.min())\n",
        "\n",
        "principalDf = pd.DataFrame({'PC1': xs*scalex, 'PC2': ys * scaley})\n",
        "\n",
        "y_train_pred=RFC.predict(X_test_pca)\n",
        "finalDF = pd.concat([principalDf, pd.Series(\n",
        "    y_train_pred, name='avis')], axis=1)\n",
        "\n",
        "\n",
        "plt.figure(figsize=(13, 10))\n",
        "\n",
        "sns.scatterplot(x='PC1', y='PC2', hue='avis', data=finalDF, alpha=0.5)\n",
        "\n",
        "for i in range(n):\n",
        "    plt.arrow(0, 0, coeff[i, 0]*1.5, coeff[i, 1]*1.5,\n",
        "              color='k', alpha=0.5, head_width=0.01, )\n",
        "    plt.text(coeff[i, 0]*1.5, coeff[i, 1] * 1.5, X_train.columns[i], color='k')\n",
        "\n",
        "plt.xlim(-0.6, 1)\n",
        "plt.ylim(-0.8, 1.5)"
      ]
    }
  ],
  "metadata": {
    "kernelspec": {
      "display_name": "Python 3",
      "language": "python",
      "name": "python3"
    },
    "language_info": {
      "codemirror_mode": {
        "name": "ipython",
        "version": 3
      },
      "file_extension": ".py",
      "mimetype": "text/x-python",
      "name": "python",
      "nbconvert_exporter": "python",
      "pygments_lexer": "ipython3",
      "version": "3.8.3"
    },
    "colab": {
      "provenance": [],
      "include_colab_link": true
    }
  },
  "nbformat": 4,
  "nbformat_minor": 0
}
