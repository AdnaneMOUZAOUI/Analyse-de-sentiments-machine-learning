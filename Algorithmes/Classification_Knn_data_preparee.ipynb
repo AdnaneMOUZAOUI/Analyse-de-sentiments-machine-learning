{
  "cells": [
    {
      "cell_type": "markdown",
      "metadata": {
        "id": "view-in-github"A,
        "colab_type": "text"
      },
      "source": [
        "<a href=\"https://colab.research.google.com/github/AdnaneMOUZAOUI/Analyse-de-sentiments-machine-learning/blob/Reviews-Analysis/Classification_Knn_data_preparee.ipynb\" target=\"_parent\"><img src=\"https://colab.research.google.com/assets/colab-badge.svg\" alt=\"Open In Colab\"/></a>"
      ]
    },
    {
      "cell_type": "code",
      "execution_count": null,
      "id": "cc919731",
      "metadata": {
        "id": "cc919731"
      },
      "outputs": [],
      "source": [
        "# Appliquer le modèle de classification en K means"
      ]
    },
    {
      "cell_type": "code",
      "execution_count": null,
      "id": "24e75c80",
      "metadata": {
        "id": "24e75c80"
      },
      "outputs": [],
      "source": [
        "# Importer le fichier depuis le drive\n",
        "import pandas as pd\n",
        "import numpy as np\n",
        "import matplotlib.pyplot as plt\n",
        "%matplotlib inline\n",
        "import seaborn as sns\n",
        "import nltk\n",
        "import re\n",
        "from sklearn.feature_selection import VarianceThreshold, SelectKBest, SelectFromModel, f_regression, mutual_info_regression, RFE, RFECV\n",
        "from sklearn.model_selection import train_test_split, KFold, GridSearchCV\n",
        "from sklearn.linear_model import LinearRegression, Lasso\n",
        "from sklearn.preprocessing import MinMaxScaler\n",
        "from sklearn.preprocessing import StandardScaler\n",
        "from sklearn.discriminant_analysis import LinearDiscriminantAnalysis as LDA\n",
        "from sklearn.ensemble import RandomForestClassifier\n",
        "from sklearn.cluster import KMeans\n",
        "from sklearn.metrics import accuracy_score, f1_score, classification_report\n",
        "\n",
        "import time\n",
        "from sklearn.metrics import confusion_matrix\n",
        "from sklearn.neighbors import KNeighborsClassifier"
      ]
    },
    {
      "cell_type": "code",
      "source": [
        "# Pour associer l'environnement avec Google Drive\n",
        "try:\n",
        "    from google.colab import drive\n",
        "    drive.mount('/content/drive')\n",
        "except:\n",
        "    print(\"Drive non connecté\")"
      ],
      "metadata": {
        "colab": {
          "base_uri": "https://localhost:8080/"
        },
        "id": "xAwRcj7UwBA7",
        "outputId": "0dcb10c1-6015-48cb-aac5-c6e2dfeb3cf1"
      },
      "id": "xAwRcj7UwBA7",
      "execution_count": null,
      "outputs": [
        {
          "output_type": "stream",
          "name": "stdout",
          "text": [
            "Drive already mounted at /content/drive; to attempt to forcibly remount, call drive.mount(\"/content/drive\", force_remount=True).\n"
          ]
        }
      ]
    },
    {
      "cell_type": "code",
      "execution_count": 1,
      "id": "ac55fc5b",
      "metadata": {
        "id": "ac55fc5b",
        "outputId": "73c1a968-8c27-4c45-8275-2a1a09213986",
        "colab": {
          "base_uri": "https://localhost:8080/",
          "height": 193
        }
      },
      "outputs": [
        {
          "output_type": "error",
          "ename": "NameError",
          "evalue": "ignored",
          "traceback": [
            "\u001b[0;31m---------------------------------------------------------------------------\u001b[0m",
            "\u001b[0;31mNameError\u001b[0m                                 Traceback (most recent call last)",
            "\u001b[0;32m<ipython-input-1-2a57941998e9>\u001b[0m in \u001b[0;36m<cell line: 1>\u001b[0;34m()\u001b[0m\n\u001b[0;32m----> 1\u001b[0;31m \u001b[0mdf\u001b[0m\u001b[0;34m=\u001b[0m\u001b[0mpd\u001b[0m\u001b[0;34m.\u001b[0m\u001b[0mread_csv\u001b[0m\u001b[0;34m(\u001b[0m\u001b[0;34m'/content/drive/MyDrive/Colab_supply_chain/Data/data_preparee.csv'\u001b[0m\u001b[0;34m,\u001b[0m \u001b[0mindex_col\u001b[0m\u001b[0;34m=\u001b[0m\u001b[0;36m0\u001b[0m\u001b[0;34m)\u001b[0m\u001b[0;34m\u001b[0m\u001b[0;34m\u001b[0m\u001b[0m\n\u001b[0m\u001b[1;32m      2\u001b[0m \u001b[0mdf\u001b[0m\u001b[0;34m.\u001b[0m\u001b[0mhead\u001b[0m\u001b[0;34m(\u001b[0m\u001b[0;34m)\u001b[0m\u001b[0;34m\u001b[0m\u001b[0;34m\u001b[0m\u001b[0m\n",
            "\u001b[0;31mNameError\u001b[0m: name 'pd' is not defined"
          ]
        }
      ],
      "source": [
        "df=pd.read_csv('/content/drive/MyDrive/Colab_supply_chain/Data/data_preparee.csv', index_col=0)\n",
        "df.head()"
      ]
    },
    {
      "cell_type": "code",
      "execution_count": 2,
      "id": "f4d94027",
      "metadata": {
        "id": "f4d94027",
        "outputId": "d0931023-8c4e-4fce-94eb-a9352b5203e3",
        "colab": {
          "base_uri": "https://localhost:8080/",
          "height": 211
        }
      },
      "outputs": [
        {
          "output_type": "error",
          "ename": "NameError",
          "evalue": "ignored",
          "traceback": [
            "\u001b[0;31m---------------------------------------------------------------------------\u001b[0m",
            "\u001b[0;31mNameError\u001b[0m                                 Traceback (most recent call last)",
            "\u001b[0;32m<ipython-input-2-ab2483174ee3>\u001b[0m in \u001b[0;36m<cell line: 1>\u001b[0;34m()\u001b[0m\n\u001b[0;32m----> 1\u001b[0;31m \u001b[0mdisplay\u001b[0m\u001b[0;34m(\u001b[0m\u001b[0mdf\u001b[0m\u001b[0;34m.\u001b[0m\u001b[0mdescribe\u001b[0m\u001b[0;34m(\u001b[0m\u001b[0;34m)\u001b[0m\u001b[0;34m)\u001b[0m\u001b[0;34m\u001b[0m\u001b[0;34m\u001b[0m\u001b[0m\n\u001b[0m\u001b[1;32m      2\u001b[0m \u001b[0mdisplay\u001b[0m\u001b[0;34m(\u001b[0m\u001b[0mdf\u001b[0m\u001b[0;34m.\u001b[0m\u001b[0minfo\u001b[0m\u001b[0;34m(\u001b[0m\u001b[0;34m)\u001b[0m\u001b[0;34m)\u001b[0m\u001b[0;34m\u001b[0m\u001b[0;34m\u001b[0m\u001b[0m\n\u001b[1;32m      3\u001b[0m \u001b[0mdisplay\u001b[0m\u001b[0;34m(\u001b[0m\u001b[0mdf\u001b[0m\u001b[0;34m.\u001b[0m\u001b[0misna\u001b[0m\u001b[0;34m(\u001b[0m\u001b[0;34m)\u001b[0m\u001b[0;34m.\u001b[0m\u001b[0msum\u001b[0m\u001b[0;34m(\u001b[0m\u001b[0;34m)\u001b[0m\u001b[0;34m)\u001b[0m\u001b[0;34m\u001b[0m\u001b[0;34m\u001b[0m\u001b[0m\n",
            "\u001b[0;31mNameError\u001b[0m: name 'df' is not defined"
          ]
        }
      ],
      "source": [
        "display(df.describe())\n",
        "display(df.info())\n",
        "display(df.isna().sum())"
      ]
    },
    {
      "cell_type": "code",
      "execution_count": 3,
      "id": "7258ecb1",
      "metadata": {
        "id": "7258ecb1",
        "colab": {
          "base_uri": "https://localhost:8080/",
          "height": 176
        },
        "outputId": "71fe1a4f-fd66-4225-f68a-e2f574586aae"
      },
      "outputs": [
        {
          "output_type": "error",
          "ename": "NameError",
          "evalue": "ignored",
          "traceback": [
            "\u001b[0;31m---------------------------------------------------------------------------\u001b[0m",
            "\u001b[0;31mNameError\u001b[0m                                 Traceback (most recent call last)",
            "\u001b[0;32m<ipython-input-3-c64f9f573c18>\u001b[0m in \u001b[0;36m<cell line: 1>\u001b[0;34m()\u001b[0m\n\u001b[0;32m----> 1\u001b[0;31m \u001b[0mdf\u001b[0m\u001b[0;34m.\u001b[0m\u001b[0mdropna\u001b[0m\u001b[0;34m(\u001b[0m\u001b[0minplace\u001b[0m\u001b[0;34m=\u001b[0m\u001b[0;32mTrue\u001b[0m\u001b[0;34m)\u001b[0m\u001b[0;34m\u001b[0m\u001b[0;34m\u001b[0m\u001b[0m\n\u001b[0m",
            "\u001b[0;31mNameError\u001b[0m: name 'df' is not defined"
          ]
        }
      ],
      "source": [
        "df.dropna(inplace=True)"
      ]
    },
    {
      "cell_type": "code",
      "execution_count": null,
      "id": "84942f63",
      "metadata": {
        "id": "84942f63"
      },
      "outputs": [],
      "source": [
        "# supprimer les varibales non utiles : nom du client, pays, date d'achat, ...\n",
        "# suppression du titre du commentaire et le texte du commentaire\n"
      ]
    },
    {
      "cell_type": "code",
      "execution_count": null,
      "id": "84db2be7",
      "metadata": {
        "id": "84db2be7",
        "outputId": "81378ae9-e27c-4eb8-b03a-0809426c843e",
        "colab": {
          "base_uri": "https://localhost:8080/"
        }
      },
      "outputs": [
        {
          "output_type": "execute_result",
          "data": {
            "text/plain": [
              "Index(['client', 'star', 'date_commande', 'date', 'nbr_avis', 'Commentaire',\n",
              "       'pays', 'Titre', 'longueur', 'majuscule', 'ponct', 'nb_mots', 'ngram_2',\n",
              "       'ngram_3', 'longueur_titre', 'majuscule_titre', 'ponct_titre',\n",
              "       'nb_mots_titre', 'ngram_2_titre', 'ngram_3_titre'],\n",
              "      dtype='object')"
            ]
          },
          "metadata": {},
          "execution_count": 8
        }
      ],
      "source": [
        "df.columns[:20]"
      ]
    },
    {
      "cell_type": "code",
      "execution_count": null,
      "id": "0956c657",
      "metadata": {
        "id": "0956c657"
      },
      "outputs": [],
      "source": [
        "# préparation des variables descriptives et la variable cible\n",
        "\n",
        "y = df['star']\n",
        "\n",
        "X = df[['nbr_avis', 'longueur', 'majuscule', 'ponct', 'nb_mots',\n",
        "       'longueur_titre', 'majuscule_titre', 'ponct_titre', 'nb_mots_titre']]\n",
        "\n"
      ]
    },
    {
      "cell_type": "code",
      "execution_count": null,
      "id": "18bffe40",
      "metadata": {
        "id": "18bffe40",
        "outputId": "aff0b74f-940e-4883-9f5e-46862855d9a9",
        "colab": {
          "base_uri": "https://localhost:8080/",
          "height": 488
        }
      },
      "outputs": [
        {
          "output_type": "execute_result",
          "data": {
            "text/plain": [
              "        nbr_avis  longueur  majuscule  ponct  nb_mots  longueur_titre  \\\n",
              "0            2.0       427          7      3       75              31   \n",
              "1            2.0       537         13      5       90              24   \n",
              "2            2.0       563          8      0      101              35   \n",
              "3            1.0       612          6      0      109              33   \n",
              "4            1.0       405          2      0       68              34   \n",
              "...          ...       ...        ...    ...      ...             ...   \n",
              "168892       1.0        33          1      0        6              10   \n",
              "168893       1.0        58          2      0       11              24   \n",
              "168894       1.0       132          1      0       23              44   \n",
              "168895       1.0       338          0      4       58              14   \n",
              "168896       5.0        72          0      0       15              26   \n",
              "\n",
              "        majuscule_titre  ponct_titre  nb_mots_titre  \n",
              "0                     1            0              6  \n",
              "1                     1            0              4  \n",
              "2                     1            0              6  \n",
              "3                     2            0              5  \n",
              "4                     0            0              4  \n",
              "...                 ...          ...            ...  \n",
              "168892                0            0              1  \n",
              "168893                0            0              4  \n",
              "168894                1            0              7  \n",
              "168895                0            0              2  \n",
              "168896                0            0              4  \n",
              "\n",
              "[168892 rows x 9 columns]"
            ],
            "text/html": [
              "\n",
              "  <div id=\"df-24ebd605-0a60-49b6-bf8b-7d8f4088cd24\">\n",
              "    <div class=\"colab-df-container\">\n",
              "      <div>\n",
              "<style scoped>\n",
              "    .dataframe tbody tr th:only-of-type {\n",
              "        vertical-align: middle;\n",
              "    }\n",
              "\n",
              "    .dataframe tbody tr th {\n",
              "        vertical-align: top;\n",
              "    }\n",
              "\n",
              "    .dataframe thead th {\n",
              "        text-align: right;\n",
              "    }\n",
              "</style>\n",
              "<table border=\"1\" class=\"dataframe\">\n",
              "  <thead>\n",
              "    <tr style=\"text-align: right;\">\n",
              "      <th></th>\n",
              "      <th>nbr_avis</th>\n",
              "      <th>longueur</th>\n",
              "      <th>majuscule</th>\n",
              "      <th>ponct</th>\n",
              "      <th>nb_mots</th>\n",
              "      <th>longueur_titre</th>\n",
              "      <th>majuscule_titre</th>\n",
              "      <th>ponct_titre</th>\n",
              "      <th>nb_mots_titre</th>\n",
              "    </tr>\n",
              "  </thead>\n",
              "  <tbody>\n",
              "    <tr>\n",
              "      <th>0</th>\n",
              "      <td>2.0</td>\n",
              "      <td>427</td>\n",
              "      <td>7</td>\n",
              "      <td>3</td>\n",
              "      <td>75</td>\n",
              "      <td>31</td>\n",
              "      <td>1</td>\n",
              "      <td>0</td>\n",
              "      <td>6</td>\n",
              "    </tr>\n",
              "    <tr>\n",
              "      <th>1</th>\n",
              "      <td>2.0</td>\n",
              "      <td>537</td>\n",
              "      <td>13</td>\n",
              "      <td>5</td>\n",
              "      <td>90</td>\n",
              "      <td>24</td>\n",
              "      <td>1</td>\n",
              "      <td>0</td>\n",
              "      <td>4</td>\n",
              "    </tr>\n",
              "    <tr>\n",
              "      <th>2</th>\n",
              "      <td>2.0</td>\n",
              "      <td>563</td>\n",
              "      <td>8</td>\n",
              "      <td>0</td>\n",
              "      <td>101</td>\n",
              "      <td>35</td>\n",
              "      <td>1</td>\n",
              "      <td>0</td>\n",
              "      <td>6</td>\n",
              "    </tr>\n",
              "    <tr>\n",
              "      <th>3</th>\n",
              "      <td>1.0</td>\n",
              "      <td>612</td>\n",
              "      <td>6</td>\n",
              "      <td>0</td>\n",
              "      <td>109</td>\n",
              "      <td>33</td>\n",
              "      <td>2</td>\n",
              "      <td>0</td>\n",
              "      <td>5</td>\n",
              "    </tr>\n",
              "    <tr>\n",
              "      <th>4</th>\n",
              "      <td>1.0</td>\n",
              "      <td>405</td>\n",
              "      <td>2</td>\n",
              "      <td>0</td>\n",
              "      <td>68</td>\n",
              "      <td>34</td>\n",
              "      <td>0</td>\n",
              "      <td>0</td>\n",
              "      <td>4</td>\n",
              "    </tr>\n",
              "    <tr>\n",
              "      <th>...</th>\n",
              "      <td>...</td>\n",
              "      <td>...</td>\n",
              "      <td>...</td>\n",
              "      <td>...</td>\n",
              "      <td>...</td>\n",
              "      <td>...</td>\n",
              "      <td>...</td>\n",
              "      <td>...</td>\n",
              "      <td>...</td>\n",
              "    </tr>\n",
              "    <tr>\n",
              "      <th>168892</th>\n",
              "      <td>1.0</td>\n",
              "      <td>33</td>\n",
              "      <td>1</td>\n",
              "      <td>0</td>\n",
              "      <td>6</td>\n",
              "      <td>10</td>\n",
              "      <td>0</td>\n",
              "      <td>0</td>\n",
              "      <td>1</td>\n",
              "    </tr>\n",
              "    <tr>\n",
              "      <th>168893</th>\n",
              "      <td>1.0</td>\n",
              "      <td>58</td>\n",
              "      <td>2</td>\n",
              "      <td>0</td>\n",
              "      <td>11</td>\n",
              "      <td>24</td>\n",
              "      <td>0</td>\n",
              "      <td>0</td>\n",
              "      <td>4</td>\n",
              "    </tr>\n",
              "    <tr>\n",
              "      <th>168894</th>\n",
              "      <td>1.0</td>\n",
              "      <td>132</td>\n",
              "      <td>1</td>\n",
              "      <td>0</td>\n",
              "      <td>23</td>\n",
              "      <td>44</td>\n",
              "      <td>1</td>\n",
              "      <td>0</td>\n",
              "      <td>7</td>\n",
              "    </tr>\n",
              "    <tr>\n",
              "      <th>168895</th>\n",
              "      <td>1.0</td>\n",
              "      <td>338</td>\n",
              "      <td>0</td>\n",
              "      <td>4</td>\n",
              "      <td>58</td>\n",
              "      <td>14</td>\n",
              "      <td>0</td>\n",
              "      <td>0</td>\n",
              "      <td>2</td>\n",
              "    </tr>\n",
              "    <tr>\n",
              "      <th>168896</th>\n",
              "      <td>5.0</td>\n",
              "      <td>72</td>\n",
              "      <td>0</td>\n",
              "      <td>0</td>\n",
              "      <td>15</td>\n",
              "      <td>26</td>\n",
              "      <td>0</td>\n",
              "      <td>0</td>\n",
              "      <td>4</td>\n",
              "    </tr>\n",
              "  </tbody>\n",
              "</table>\n",
              "<p>168892 rows × 9 columns</p>\n",
              "</div>\n",
              "      <button class=\"colab-df-convert\" onclick=\"convertToInteractive('df-24ebd605-0a60-49b6-bf8b-7d8f4088cd24')\"\n",
              "              title=\"Convert this dataframe to an interactive table.\"\n",
              "              style=\"display:none;\">\n",
              "        \n",
              "  <svg xmlns=\"http://www.w3.org/2000/svg\" height=\"24px\"viewBox=\"0 0 24 24\"\n",
              "       width=\"24px\">\n",
              "    <path d=\"M0 0h24v24H0V0z\" fill=\"none\"/>\n",
              "    <path d=\"M18.56 5.44l.94 2.06.94-2.06 2.06-.94-2.06-.94-.94-2.06-.94 2.06-2.06.94zm-11 1L8.5 8.5l.94-2.06 2.06-.94-2.06-.94L8.5 2.5l-.94 2.06-2.06.94zm10 10l.94 2.06.94-2.06 2.06-.94-2.06-.94-.94-2.06-.94 2.06-2.06.94z\"/><path d=\"M17.41 7.96l-1.37-1.37c-.4-.4-.92-.59-1.43-.59-.52 0-1.04.2-1.43.59L10.3 9.45l-7.72 7.72c-.78.78-.78 2.05 0 2.83L4 21.41c.39.39.9.59 1.41.59.51 0 1.02-.2 1.41-.59l7.78-7.78 2.81-2.81c.8-.78.8-2.07 0-2.86zM5.41 20L4 18.59l7.72-7.72 1.47 1.35L5.41 20z\"/>\n",
              "  </svg>\n",
              "      </button>\n",
              "      \n",
              "  <style>\n",
              "    .colab-df-container {\n",
              "      display:flex;\n",
              "      flex-wrap:wrap;\n",
              "      gap: 12px;\n",
              "    }\n",
              "\n",
              "    .colab-df-convert {\n",
              "      background-color: #E8F0FE;\n",
              "      border: none;\n",
              "      border-radius: 50%;\n",
              "      cursor: pointer;\n",
              "      display: none;\n",
              "      fill: #1967D2;\n",
              "      height: 32px;\n",
              "      padding: 0 0 0 0;\n",
              "      width: 32px;\n",
              "    }\n",
              "\n",
              "    .colab-df-convert:hover {\n",
              "      background-color: #E2EBFA;\n",
              "      box-shadow: 0px 1px 2px rgba(60, 64, 67, 0.3), 0px 1px 3px 1px rgba(60, 64, 67, 0.15);\n",
              "      fill: #174EA6;\n",
              "    }\n",
              "\n",
              "    [theme=dark] .colab-df-convert {\n",
              "      background-color: #3B4455;\n",
              "      fill: #D2E3FC;\n",
              "    }\n",
              "\n",
              "    [theme=dark] .colab-df-convert:hover {\n",
              "      background-color: #434B5C;\n",
              "      box-shadow: 0px 1px 3px 1px rgba(0, 0, 0, 0.15);\n",
              "      filter: drop-shadow(0px 1px 2px rgba(0, 0, 0, 0.3));\n",
              "      fill: #FFFFFF;\n",
              "    }\n",
              "  </style>\n",
              "\n",
              "      <script>\n",
              "        const buttonEl =\n",
              "          document.querySelector('#df-24ebd605-0a60-49b6-bf8b-7d8f4088cd24 button.colab-df-convert');\n",
              "        buttonEl.style.display =\n",
              "          google.colab.kernel.accessAllowed ? 'block' : 'none';\n",
              "\n",
              "        async function convertToInteractive(key) {\n",
              "          const element = document.querySelector('#df-24ebd605-0a60-49b6-bf8b-7d8f4088cd24');\n",
              "          const dataTable =\n",
              "            await google.colab.kernel.invokeFunction('convertToInteractive',\n",
              "                                                     [key], {});\n",
              "          if (!dataTable) return;\n",
              "\n",
              "          const docLinkHtml = 'Like what you see? Visit the ' +\n",
              "            '<a target=\"_blank\" href=https://colab.research.google.com/notebooks/data_table.ipynb>data table notebook</a>'\n",
              "            + ' to learn more about interactive tables.';\n",
              "          element.innerHTML = '';\n",
              "          dataTable['output_type'] = 'display_data';\n",
              "          await google.colab.output.renderOutput(dataTable, element);\n",
              "          const docLink = document.createElement('div');\n",
              "          docLink.innerHTML = docLinkHtml;\n",
              "          element.appendChild(docLink);\n",
              "        }\n",
              "      </script>\n",
              "    </div>\n",
              "  </div>\n",
              "  "
            ]
          },
          "metadata": {},
          "execution_count": 10
        }
      ],
      "source": [
        "X"
      ]
    },
    {
      "cell_type": "code",
      "execution_count": null,
      "id": "22602915",
      "metadata": {
        "id": "22602915"
      },
      "outputs": [],
      "source": [
        "## Séparation des ensembles train et test des données\n",
        "X_train, X_test, y_train, y_test = train_test_split(X, y, test_size=0.2)"
      ]
    },
    {
      "cell_type": "code",
      "execution_count": null,
      "id": "17fce9c1",
      "metadata": {
        "id": "17fce9c1"
      },
      "outputs": [],
      "source": [
        "## Chercher les meilleurs paramètres KNN en nombre de voisins et en métrique de calcul de distance\n",
        "start = time.time()"
      ]
    },
    {
      "cell_type": "code",
      "execution_count": null,
      "id": "443d26c4",
      "metadata": {
        "collapsed": true,
        "id": "443d26c4"
      },
      "outputs": [],
      "source": [
        "from sklearn.neighbors import KNeighborsClassifier\n",
        "\n",
        "score_minko =[]\n",
        "for i in range(1, 30):\n",
        "    knn = KNeighborsClassifier( n_neighbors=i, metric='minkowski')\n",
        "    knn.fit(X_train, y_train)\n",
        "    score_minko.append( knn.score(X_test, y_test) )"
      ]
    },
    {
      "cell_type": "code",
      "execution_count": null,
      "id": "c460c533",
      "metadata": {
        "collapsed": true,
        "id": "c460c533"
      },
      "outputs": [],
      "source": [
        "score_man =[]\n",
        "for i in range(1, 30):\n",
        "    knn = KNeighborsClassifier( n_neighbors=i, metric='manhattan')\n",
        "    knn.fit(X_train, y_train)\n",
        "    score_man.append( knn.score(X_test, y_test) )"
      ]
    },
    {
      "cell_type": "code",
      "execution_count": null,
      "id": "c08b44cd",
      "metadata": {
        "id": "c08b44cd"
      },
      "outputs": [],
      "source": [
        "score_cheb =[]\n",
        "for i in range(1, 30):\n",
        "    knn = KNeighborsClassifier( n_neighbors=i, metric='chebyshev')\n",
        "    knn.fit(X_train, y_train)\n",
        "    score_cheb.append( knn.score(X_test, y_test) );"
      ]
    },
    {
      "cell_type": "code",
      "execution_count": null,
      "id": "73324d46",
      "metadata": {
        "id": "73324d46",
        "outputId": "eff9733e-1902-4479-d262-c2375e51edbc",
        "colab": {
          "base_uri": "https://localhost:8080/"
        }
      },
      "outputs": [
        {
          "output_type": "stream",
          "name": "stdout",
          "text": [
            " temps de calcul est : 5.47 minutes\n"
          ]
        }
      ],
      "source": [
        "end = time.time()\n",
        "\n",
        "print(\" temps de calcul est :\", round((end-start)/60,2), \"minutes\")"
      ]
    },
    {
      "cell_type": "code",
      "execution_count": null,
      "id": "3f086f89",
      "metadata": {
        "id": "3f086f89",
        "outputId": "df0046ea-cd70-45fe-c997-255941036469",
        "colab": {
          "base_uri": "https://localhost:8080/",
          "height": 523
        }
      },
      "outputs": [
        {
          "output_type": "display_data",
          "data": {
            "text/plain": [
              "<Figure size 800x600 with 1 Axes>"
            ],
            "image/png": "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\n"
          },
          "metadata": {}
        }
      ],
      "source": [
        "import matplotlib.pyplot as plt\n",
        "\n",
        "plt.figure(figsize=(8, 6))\n",
        "\n",
        "plt.plot(range(1, 30), score_minko, 'b-', label='knn--minkowski')\n",
        "\n",
        "plt.plot(range(1, 30), score_man, 'r--', linewidth=4, label='knn--manhattan')\n",
        "\n",
        "plt.plot(range(1, 30), score_cheb, color= 'green', linestyle='-.', label='knn--chebyshev' )\n",
        "\n",
        "plt.title(' liste des scores par metric, k[1,30]')\n",
        "\n",
        "plt.xlabel('K=nombre de voisins')\n",
        "plt.ylabel('')\n",
        "\n",
        "plt.legend(loc='lower left');"
      ]
    },
    {
      "cell_type": "code",
      "execution_count": null,
      "id": "f7e0b471",
      "metadata": {
        "id": "f7e0b471",
        "outputId": "4ac2054a-9b64-4a36-aa5a-3953a6dde969",
        "colab": {
          "base_uri": "https://localhost:8080/"
        }
      },
      "outputs": [
        {
          "output_type": "stream",
          "name": "stdout",
          "text": [
            "[[1423  378 1092  780  673]\n",
            " [ 701  298  891  619  562]\n",
            " [ 928  499 1830 1433 1311]\n",
            " [ 580  323 1526 2934 3524]\n",
            " [ 459  258 1399 3107 6251]]\n"
          ]
        }
      ],
      "source": [
        "knn_10 = KNeighborsClassifier( n_neighbors=10, metric='manhattan')\n",
        "knn_10.fit(X_train, y_train)\n",
        "y_pred_knn10 = knn_10.predict(X_test)\n",
        "print(confusion_matrix(y_test, y_pred_knn10))"
      ]
    },
    {
      "cell_type": "code",
      "execution_count": null,
      "id": "7b44dfa4",
      "metadata": {
        "id": "7b44dfa4",
        "outputId": "8132c5ef-f9b7-4b5c-faab-f30f8c349200",
        "colab": {
          "base_uri": "https://localhost:8080/"
        }
      },
      "outputs": [
        {
          "output_type": "stream",
          "name": "stdout",
          "text": [
            "              precision    recall  f1-score   support\n",
            "\n",
            "         1.0       0.33      0.35      0.34      4091\n",
            "         2.0       0.10      0.17      0.12      1756\n",
            "         3.0       0.30      0.27      0.29      6738\n",
            "         4.0       0.33      0.33      0.33      8873\n",
            "         5.0       0.54      0.51      0.53     12321\n",
            "\n",
            "    accuracy                           0.38     33779\n",
            "   macro avg       0.32      0.33      0.32     33779\n",
            "weighted avg       0.39      0.38      0.38     33779\n",
            "\n"
          ]
        }
      ],
      "source": [
        "print(classification_report(y_pred_knn10, y_test))"
      ]
    },
    {
      "cell_type": "markdown",
      "id": "65e8dc46",
      "metadata": {
        "id": "65e8dc46"
      },
      "source": [
        "## Standardisation des données"
      ]
    },
    {
      "cell_type": "code",
      "execution_count": null,
      "id": "ad23825f",
      "metadata": {
        "id": "ad23825f",
        "outputId": "59215246-c2a1-430a-cc57-aa2b1e5b4f34",
        "colab": {
          "base_uri": "https://localhost:8080/"
        }
      },
      "outputs": [
        {
          "output_type": "execute_result",
          "data": {
            "text/plain": [
              "array([[-0.07838385, -0.65890714, -0.17064172, ..., -0.05655125,\n",
              "        -0.19496127, -0.47877326],\n",
              "       [-0.47898442, -0.62334549, -0.17064172, ...,  0.92450708,\n",
              "        -0.19496127, -0.12369317],\n",
              "       [-0.47898442,  0.02269116, -0.08123439, ..., -0.05655125,\n",
              "        -0.19496127,  0.58646702],\n",
              "       ...,\n",
              "       [-0.47898442,  1.58740378,  0.09758027, ..., -0.3835707 ,\n",
              "        -0.19496127,  1.6517073 ],\n",
              "       [-0.07838385,  1.76521203,  0.27639492, ...,  0.27046819,\n",
              "        -0.19496127, -0.47877326],\n",
              "       [-0.47898442,  1.95487416,  0.36580225, ..., -0.05655125,\n",
              "        -0.19496127,  0.94154711]])"
            ]
          },
          "metadata": {},
          "execution_count": 20
        }
      ],
      "source": [
        "scaler = StandardScaler()\n",
        "scaler.fit(X_train)\n",
        "scaler.transform(X_train)\n",
        "scaler.transform(X_test)"
      ]
    },
    {
      "cell_type": "code",
      "execution_count": null,
      "id": "4749f732",
      "metadata": {
        "id": "4749f732"
      },
      "outputs": [],
      "source": [
        "score_man =[]\n",
        "for i in range(1, 30):\n",
        "    knn = KNeighborsClassifier( n_neighbors=i, metric='manhattan')\n",
        "    knn.fit(X_train, y_train)\n",
        "    score_man.append( knn.score(X_test, y_test) )"
      ]
    },
    {
      "cell_type": "code",
      "execution_count": null,
      "id": "a56003e5",
      "metadata": {
        "id": "a56003e5",
        "outputId": "589994b8-8d8a-4dbe-ef1a-fb50e83c5d35",
        "colab": {
          "base_uri": "https://localhost:8080/",
          "height": 545
        }
      },
      "outputs": [
        {
          "output_type": "display_data",
          "data": {
            "text/plain": [
              "<Figure size 1000x800 with 1 Axes>"
            ],
            "image/png": "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\n"
          },
          "metadata": {}
        }
      ],
      "source": [
        "import matplotlib.pyplot as plt\n",
        "\n",
        "plt.figure(figsize=(10, 8))\n",
        "\n",
        "plt.plot(range(1, 30), score_man, 'r--', linewidth=4, label='knn--manhattan')\n",
        "\n",
        "plt.title(' liste des scores par metric manhattan, k=[1,30]')\n",
        "\n",
        "plt.xlabel('K=nombre de voisins')\n",
        "plt.ylabel('')\n",
        "\n",
        "plt.legend(loc='lower left');"
      ]
    },
    {
      "cell_type": "code",
      "execution_count": null,
      "id": "53b999c8",
      "metadata": {
        "id": "53b999c8"
      },
      "outputs": [],
      "source": []
    },
    {
      "cell_type": "markdown",
      "id": "312aea42",
      "metadata": {
        "id": "312aea42"
      },
      "source": [
        "## Etape 1 : réduction de dimensions par features selection à variance nulles\n",
        "\n",
        "### Etape 1 : Pré_Processing  par filtration des features à variances nulles, nous allons garder les variables apportant un minimum de variances et supprimer celles qui n'apportent aucune information"
      ]
    },
    {
      "cell_type": "code",
      "execution_count": null,
      "id": "af7bd5c1",
      "metadata": {
        "id": "af7bd5c1",
        "outputId": "cb38bda0-45f1-42de-fcc3-215a280ae99f",
        "colab": {
          "base_uri": "https://localhost:8080/",
          "height": 74
        }
      },
      "outputs": [
        {
          "output_type": "execute_result",
          "data": {
            "text/plain": [
              "VarianceThreshold(threshold=1e-06)"
            ],
            "text/html": [
              "<style>#sk-container-id-1 {color: black;background-color: white;}#sk-container-id-1 pre{padding: 0;}#sk-container-id-1 div.sk-toggleable {background-color: white;}#sk-container-id-1 label.sk-toggleable__label {cursor: pointer;display: block;width: 100%;margin-bottom: 0;padding: 0.3em;box-sizing: border-box;text-align: center;}#sk-container-id-1 label.sk-toggleable__label-arrow:before {content: \"▸\";float: left;margin-right: 0.25em;color: #696969;}#sk-container-id-1 label.sk-toggleable__label-arrow:hover:before {color: black;}#sk-container-id-1 div.sk-estimator:hover label.sk-toggleable__label-arrow:before {color: black;}#sk-container-id-1 div.sk-toggleable__content {max-height: 0;max-width: 0;overflow: hidden;text-align: left;background-color: #f0f8ff;}#sk-container-id-1 div.sk-toggleable__content pre {margin: 0.2em;color: black;border-radius: 0.25em;background-color: #f0f8ff;}#sk-container-id-1 input.sk-toggleable__control:checked~div.sk-toggleable__content {max-height: 200px;max-width: 100%;overflow: auto;}#sk-container-id-1 input.sk-toggleable__control:checked~label.sk-toggleable__label-arrow:before {content: \"▾\";}#sk-container-id-1 div.sk-estimator input.sk-toggleable__control:checked~label.sk-toggleable__label {background-color: #d4ebff;}#sk-container-id-1 div.sk-label input.sk-toggleable__control:checked~label.sk-toggleable__label {background-color: #d4ebff;}#sk-container-id-1 input.sk-hidden--visually {border: 0;clip: rect(1px 1px 1px 1px);clip: rect(1px, 1px, 1px, 1px);height: 1px;margin: -1px;overflow: hidden;padding: 0;position: absolute;width: 1px;}#sk-container-id-1 div.sk-estimator {font-family: monospace;background-color: #f0f8ff;border: 1px dotted black;border-radius: 0.25em;box-sizing: border-box;margin-bottom: 0.5em;}#sk-container-id-1 div.sk-estimator:hover {background-color: #d4ebff;}#sk-container-id-1 div.sk-parallel-item::after {content: \"\";width: 100%;border-bottom: 1px solid gray;flex-grow: 1;}#sk-container-id-1 div.sk-label:hover label.sk-toggleable__label {background-color: #d4ebff;}#sk-container-id-1 div.sk-serial::before {content: \"\";position: absolute;border-left: 1px solid gray;box-sizing: border-box;top: 0;bottom: 0;left: 50%;z-index: 0;}#sk-container-id-1 div.sk-serial {display: flex;flex-direction: column;align-items: center;background-color: white;padding-right: 0.2em;padding-left: 0.2em;position: relative;}#sk-container-id-1 div.sk-item {position: relative;z-index: 1;}#sk-container-id-1 div.sk-parallel {display: flex;align-items: stretch;justify-content: center;background-color: white;position: relative;}#sk-container-id-1 div.sk-item::before, #sk-container-id-1 div.sk-parallel-item::before {content: \"\";position: absolute;border-left: 1px solid gray;box-sizing: border-box;top: 0;bottom: 0;left: 50%;z-index: -1;}#sk-container-id-1 div.sk-parallel-item {display: flex;flex-direction: column;z-index: 1;position: relative;background-color: white;}#sk-container-id-1 div.sk-parallel-item:first-child::after {align-self: flex-end;width: 50%;}#sk-container-id-1 div.sk-parallel-item:last-child::after {align-self: flex-start;width: 50%;}#sk-container-id-1 div.sk-parallel-item:only-child::after {width: 0;}#sk-container-id-1 div.sk-dashed-wrapped {border: 1px dashed gray;margin: 0 0.4em 0.5em 0.4em;box-sizing: border-box;padding-bottom: 0.4em;background-color: white;}#sk-container-id-1 div.sk-label label {font-family: monospace;font-weight: bold;display: inline-block;line-height: 1.2em;}#sk-container-id-1 div.sk-label-container {text-align: center;}#sk-container-id-1 div.sk-container {/* jupyter's `normalize.less` sets `[hidden] { display: none; }` but bootstrap.min.css set `[hidden] { display: none !important; }` so we also need the `!important` here to be able to override the default hidden behavior on the sphinx rendered scikit-learn.org. See: https://github.com/scikit-learn/scikit-learn/issues/21755 */display: inline-block !important;position: relative;}#sk-container-id-1 div.sk-text-repr-fallback {display: none;}</style><div id=\"sk-container-id-1\" class=\"sk-top-container\"><div class=\"sk-text-repr-fallback\"><pre>VarianceThreshold(threshold=1e-06)</pre><b>In a Jupyter environment, please rerun this cell to show the HTML representation or trust the notebook. <br />On GitHub, the HTML representation is unable to render, please try loading this page with nbviewer.org.</b></div><div class=\"sk-container\" hidden><div class=\"sk-item\"><div class=\"sk-estimator sk-toggleable\"><input class=\"sk-toggleable__control sk-hidden--visually\" id=\"sk-estimator-id-1\" type=\"checkbox\" checked><label for=\"sk-estimator-id-1\" class=\"sk-toggleable__label sk-toggleable__label-arrow\">VarianceThreshold</label><div class=\"sk-toggleable__content\"><pre>VarianceThreshold(threshold=1e-06)</pre></div></div></div></div></div>"
            ]
          },
          "metadata": {},
          "execution_count": 23
        }
      ],
      "source": [
        "sel = VarianceThreshold(threshold=1e-06)\n",
        "sel.fit(X_train)"
      ]
    },
    {
      "cell_type": "code",
      "execution_count": 6,
      "id": "ff40270e",
      "metadata": {
        "id": "ff40270e",
        "outputId": "ed80c45f-3d22-4621-9fcb-f09bf175b766",
        "colab": {
          "base_uri": "https://localhost:8080/",
          "height": 228
        }
      },
      "outputs": [
        {
          "output_type": "error",
          "ename": "NameError",
          "evalue": "ignored",
          "traceback": [
            "\u001b[0;31m---------------------------------------------------------------------------\u001b[0m",
            "\u001b[0;31mNameError\u001b[0m                                 Traceback (most recent call last)",
            "\u001b[0;32m<ipython-input-6-be6b3c20d7b8>\u001b[0m in \u001b[0;36m<cell line: 1>\u001b[0;34m()\u001b[0m\n\u001b[0;32m----> 1\u001b[0;31m \u001b[0mmask\u001b[0m \u001b[0;34m=\u001b[0m \u001b[0msel\u001b[0m\u001b[0;34m.\u001b[0m\u001b[0mget_support\u001b[0m\u001b[0;34m(\u001b[0m\u001b[0;34m)\u001b[0m\u001b[0;34m\u001b[0m\u001b[0;34m\u001b[0m\u001b[0m\n\u001b[0m\u001b[1;32m      2\u001b[0m \u001b[0;34m\u001b[0m\u001b[0m\n\u001b[1;32m      3\u001b[0m \u001b[0mplt\u001b[0m\u001b[0;34m.\u001b[0m\u001b[0mmatshow\u001b[0m\u001b[0;34m(\u001b[0m\u001b[0mmask\u001b[0m\u001b[0;34m.\u001b[0m\u001b[0mreshape\u001b[0m\u001b[0;34m(\u001b[0m\u001b[0;36m1\u001b[0m\u001b[0;34m,\u001b[0m\u001b[0;34m-\u001b[0m\u001b[0;36m1\u001b[0m\u001b[0;34m)\u001b[0m\u001b[0;34m,\u001b[0m \u001b[0mcmap\u001b[0m \u001b[0;34m=\u001b[0m \u001b[0;34m'gray_r'\u001b[0m\u001b[0;34m)\u001b[0m\u001b[0;34m\u001b[0m\u001b[0;34m\u001b[0m\u001b[0m\n\u001b[1;32m      4\u001b[0m \u001b[0mplt\u001b[0m\u001b[0;34m.\u001b[0m\u001b[0mxlabel\u001b[0m\u001b[0;34m(\u001b[0m\u001b[0;34m'Feature selection'\u001b[0m\u001b[0;34m)\u001b[0m\u001b[0;34m;\u001b[0m\u001b[0;34m\u001b[0m\u001b[0;34m\u001b[0m\u001b[0m\n",
            "\u001b[0;31mNameError\u001b[0m: name 'sel' is not defined"
          ]
        }
      ],
      "source": [
        "mask = sel.get_support()\n",
        "\n",
        "plt.matshow(mask.reshape(1,-1), cmap = 'gray_r')\n",
        "plt.xlabel('Feature selection');"
      ]
    },
    {
      "cell_type": "code",
      "execution_count": null,
      "id": "97a4a867",
      "metadata": {
        "id": "97a4a867"
      },
      "outputs": [],
      "source": [
        "X_train_save = X_train\n",
        "X_test_save = X_test\n",
        "\n",
        "X_train = sel.transform(X_train)\n",
        "X_test = sel.transform(X_test)"
      ]
    },
    {
      "cell_type": "code",
      "execution_count": null,
      "id": "537ccb25",
      "metadata": {
        "id": "537ccb25",
        "outputId": "305149c7-0597-47d4-c5d1-d83e7459b2b2",
        "colab": {
          "base_uri": "https://localhost:8080/"
        }
      },
      "outputs": [
        {
          "output_type": "execute_result",
          "data": {
            "text/plain": [
              "(135113, 9)"
            ]
          },
          "metadata": {},
          "execution_count": 26
        }
      ],
      "source": [
        "X_train.shape"
      ]
    },
    {
      "cell_type": "code",
      "execution_count": null,
      "id": "f123ea3a",
      "metadata": {
        "id": "f123ea3a",
        "outputId": "5b4b5f54-251c-45e4-a168-c4dfe1ded90b",
        "colab": {
          "base_uri": "https://localhost:8080/"
        }
      },
      "outputs": [
        {
          "output_type": "execute_result",
          "data": {
            "text/plain": [
              "array([[  2.,  27.,   1., ...,   1.,   0.,   2.],\n",
              "       [  1.,  33.,   1., ...,   4.,   0.,   3.],\n",
              "       [  1., 142.,   2., ...,   1.,   0.,   5.],\n",
              "       ...,\n",
              "       [  1., 406.,   4., ...,   0.,   0.,   8.],\n",
              "       [  2., 436.,   6., ...,   2.,   0.,   2.],\n",
              "       [  1., 468.,   7., ...,   1.,   0.,   6.]])"
            ]
          },
          "metadata": {},
          "execution_count": 27
        }
      ],
      "source": [
        "X_test"
      ]
    },
    {
      "cell_type": "code",
      "execution_count": null,
      "id": "31f6c2a4",
      "metadata": {
        "id": "31f6c2a4"
      },
      "outputs": [],
      "source": [
        "score_man =[]\n",
        "for i in range(1, 30):\n",
        "    knn = KNeighborsClassifier( n_neighbors=i, metric='manhattan')\n",
        "    knn.fit(X_train, y_train)\n",
        "    score_man.append( knn.score(X_test, y_test) )"
      ]
    },
    {
      "cell_type": "code",
      "execution_count": null,
      "id": "27f8bf14",
      "metadata": {
        "id": "27f8bf14",
        "outputId": "3c25d477-bd0c-40d6-91c8-5dd75ef540b2",
        "colab": {
          "base_uri": "https://localhost:8080/",
          "height": 545
        }
      },
      "outputs": [
        {
          "output_type": "display_data",
          "data": {
            "text/plain": [
              "<Figure size 1000x800 with 1 Axes>"
            ],
            "image/png": "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\n"
          },
          "metadata": {}
        }
      ],
      "source": [
        "import matplotlib.pyplot as plt\n",
        "\n",
        "plt.figure(figsize=(10, 8))\n",
        "\n",
        "plt.plot(range(1, 30), score_man, 'r--', linewidth=4, label='knn--manhattan')\n",
        "\n",
        "plt.title(' liste des scores par metric manhattan, k=[1,30]')\n",
        "\n",
        "plt.xlabel('K=nombre de voisins')\n",
        "plt.ylabel('')\n",
        "\n",
        "plt.legend(loc='lower left');"
      ]
    },
    {
      "cell_type": "markdown",
      "id": "35ffce8b",
      "metadata": {
        "id": "35ffce8b"
      },
      "source": [
        "Selection des 5 variables les plus corrélées à la variable cible"
      ]
    },
    {
      "cell_type": "markdown",
      "id": "5d5adf3e",
      "metadata": {
        "id": "5d5adf3e"
      },
      "source": [
        "## Etape 2 : selction des variables avec SelectKBest,\n",
        "###nous allons choisir les 5 meilleures variables"
      ]
    },
    {
      "cell_type": "code",
      "execution_count": null,
      "id": "9b01d764",
      "metadata": {
        "id": "9b01d764",
        "outputId": "abf8bbc7-d87d-48d9-fe0a-ef34ca9d9860",
        "colab": {
          "base_uri": "https://localhost:8080/",
          "height": 124
        }
      },
      "outputs": [
        {
          "output_type": "execute_result",
          "data": {
            "text/plain": [
              "<matplotlib.image.AxesImage at 0x7fcddd429540>"
            ]
          },
          "metadata": {},
          "execution_count": 30
        },
        {
          "output_type": "display_data",
          "data": {
            "text/plain": [
              "<Figure size 1600x200 with 1 Axes>"
            ],
            "image/png": "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\n"
          },
          "metadata": {}
        }
      ],
      "source": [
        "X_train = X_train_save\n",
        "X_test = X_test_save\n",
        "\n",
        "\n",
        "sel = SelectKBest(score_func=f_regression, k=5)\n",
        "sel.fit(X_train, y_train)\n",
        "mask = sel.get_support()\n",
        "plt.matshow(mask.reshape(1, -1), cmap='gray_r')"
      ]
    },
    {
      "cell_type": "code",
      "execution_count": null,
      "id": "92369225",
      "metadata": {
        "id": "92369225"
      },
      "outputs": [],
      "source": [
        "\n",
        "X_train = sel.transform(X_train)\n",
        "X_test = sel.transform(X_test)"
      ]
    },
    {
      "cell_type": "code",
      "execution_count": null,
      "id": "a33a1395",
      "metadata": {
        "id": "a33a1395"
      },
      "outputs": [],
      "source": [
        "score_man =[]\n",
        "for i in range(1, 30):\n",
        "    knn = KNeighborsClassifier( n_neighbors=i, metric='manhattan')\n",
        "    knn.fit(X_train, y_train)\n",
        "    score_man.append( knn.score(X_test, y_test) )"
      ]
    },
    {
      "cell_type": "code",
      "execution_count": null,
      "id": "d497c69e",
      "metadata": {
        "id": "d497c69e",
        "outputId": "bd07f7cb-288c-405c-c503-0adcb1b1beca",
        "colab": {
          "base_uri": "https://localhost:8080/",
          "height": 564
        }
      },
      "outputs": [
        {
          "output_type": "display_data",
          "data": {
            "text/plain": [
              "<Figure size 600x600 with 1 Axes>"
            ],
            "image/png": "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\n"
          },
          "metadata": {}
        }
      ],
      "source": [
        "import matplotlib.pyplot as plt\n",
        "\n",
        "plt.figure(figsize=(6, 6))\n",
        "\n",
        "plt.plot(range(1, 30), score_man, 'r--', linewidth=4, label='knn--manhattan')\n",
        "\n",
        "plt.title(' liste des scores par metric manathan, k=[1,30]')\n",
        "\n",
        "plt.xlabel('K=nombre de voisins')\n",
        "plt.ylabel('')\n",
        "\n",
        "plt.legend(loc='lower left');"
      ]
    },
    {
      "cell_type": "code",
      "execution_count": null,
      "id": "fc4b295c",
      "metadata": {
        "id": "fc4b295c",
        "outputId": "011a372d-fae1-46c3-8990-c12d14b919d6",
        "colab": {
          "base_uri": "https://localhost:8080/"
        }
      },
      "outputs": [
        {
          "output_type": "stream",
          "name": "stdout",
          "text": [
            "              precision    recall  f1-score   support\n",
            "\n",
            "         1.0       0.32      0.34      0.33      4099\n",
            "         2.0       0.08      0.15      0.11      1661\n",
            "         3.0       0.28      0.26      0.27      6320\n",
            "         4.0       0.32      0.33      0.32      8480\n",
            "         5.0       0.56      0.49      0.52     13219\n",
            "\n",
            "    accuracy                           0.37     33779\n",
            "   macro avg       0.31      0.32      0.31     33779\n",
            "weighted avg       0.40      0.37      0.38     33779\n",
            "\n",
            "[[1407  350 1037  736  816]\n",
            " [ 680  249  890  608  644]\n",
            " [ 947  469 1659 1397 1529]\n",
            " [ 579  333 1407 2815 3753]\n",
            " [ 486  260 1327 2924 6477]]\n"
          ]
        }
      ],
      "source": [
        "knn = KNeighborsClassifier( n_neighbors=10, metric='manhattan')\n",
        "knn.fit(X_train, y_train)\n",
        "y_pred_knn10 = knn.predict(X_test)\n",
        "print(classification_report( y_pred_knn10, y_test) )\n",
        "\n",
        "\n",
        "\n",
        "print(confusion_matrix(y_test, y_pred_knn10))"
      ]
    },
    {
      "cell_type": "code",
      "execution_count": null,
      "id": "2c73e690",
      "metadata": {
        "id": "2c73e690"
      },
      "outputs": [],
      "source": []
    }
  ],
  "metadata": {
    "kernelspec": {
      "display_name": "Python 3",
      "name": "python3"
    },
    "language_info": {
      "codemirror_mode": {
        "name": "ipython",
        "version": 3
      },
      "file_extension": ".py",
      "mimetype": "text/x-python",
      "name": "python",
      "nbconvert_exporter": "python",
      "pygments_lexer": "ipython3",
      "version": "3.9.13"
    },
    "colab": {
      "provenance": [],
      "gpuType": "T4",
      "include_colab_link": true
    },
    "accelerator": "GPU"
  },
  "nbformat": 4,
  "nbformat_minor": 5
}
