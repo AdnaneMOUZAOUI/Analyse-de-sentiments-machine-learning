{
  "cells": [
    {
      "cell_type": "markdown",
      "metadata": {
        "id": "view-in-github",
        "colab_type": "text"
      },
      "source": [
        "<a href=\"https://colab.research.google.com/github/AdnaneMOUZAOUI/Analyse-de-sentiments-machine-learning/blob/Reviews-Analysis/Word_embedding_2_modele_entrain%C3%A9.ipynb\" target=\"_parent\"><img src=\"https://colab.research.google.com/assets/colab-badge.svg\" alt=\"Open In Colab\"/></a>"
      ]
    },
    {
      "cell_type": "code",
      "execution_count": null,
      "metadata": {
        "id": "T0D5UJ0EhSuZ"
      },
      "outputs": [],
      "source": [
        "# pip install pandas matplotlib seaborn nltk scikit-learn joblib xgboost shap keras gensim\n"
      ]
    },
    {
      "cell_type": "code",
      "execution_count": null,
      "metadata": {
        "id": "Xxm2gVC-hSub"
      },
      "outputs": [],
      "source": [
        "# import nltk\n",
        "# nltk.download('stopwords')"
      ]
    },
    {
      "cell_type": "code",
      "execution_count": null,
      "metadata": {
        "id": "pj2candmhSud"
      },
      "outputs": [],
      "source": [
        "# pip install gensim"
      ]
    },
    {
      "cell_type": "code",
      "execution_count": null,
      "metadata": {
        "id": "VMbR_8P-hSue"
      },
      "outputs": [],
      "source": [
        "# dans cmd\n",
        "# pip install tensorflow"
      ]
    },
    {
      "cell_type": "code",
      "execution_count": null,
      "metadata": {
        "id": "47THUDV1hSuf"
      },
      "outputs": [],
      "source": [
        "# Importer le fichier depuis le drive\n",
        "import pandas as pd\n",
        "\n",
        "import numpy as np\n",
        "import matplotlib.pyplot as plt\n",
        "%matplotlib inline\n",
        "import seaborn as sns\n",
        "import nltk\n",
        "import re\n",
        "import multiprocessing\n",
        "from sklearn.feature_selection import VarianceThreshold, SelectKBest, SelectFromModel, f_regression, mutual_info_regression, RFE, RFECV\n",
        "from sklearn.model_selection import train_test_split, KFold, GridSearchCV\n",
        "from sklearn.linear_model import LinearRegression, Lasso\n",
        "from sklearn.preprocessing import MinMaxScaler\n",
        "from sklearn.preprocessing import StandardScaler\n",
        "from sklearn.decomposition import PCA\n",
        "from sklearn.discriminant_analysis import LinearDiscriminantAnalysis as LDA\n",
        "from sklearn.ensemble import RandomForestClassifier\n",
        "from sklearn.cluster import KMeans\n",
        "from sklearn.feature_extraction.text import CountVectorizer\n",
        "from sklearn.ensemble import GradientBoostingClassifier\n",
        "import joblib\n",
        "from sklearn.feature_extraction.text import TfidfVectorizer\n",
        "from nltk.corpus import stopwords\n",
        "import xgboost as xgb\n",
        "from sklearn.model_selection import GridSearchCV\n",
        "from keras.preprocessing.text import Tokenizer\n",
        "from keras.preprocessing.text import text_to_word_sequence\n",
        "from gensim.models import Word2Vec\n",
        "from sklearn.metrics import classification_report\n",
        "import joblib\n",
        "# df=df.rename(columns={\"nom_client\":\"client\",\"date_achat\":\"date_commande\",\"date_avis\":\"date\",\"text_avis\":\"Text\",\"titre_avis\":\"Titre\",\"note_avis\":\"star\"})"
      ]
    },
    {
      "cell_type": "code",
      "source": [
        "try:\n",
        "    from google.colab import drive\n",
        "    drive.mount('/content/drive')\n",
        "except:\n",
        "    print(\"Drive non connecté\")\n",
        "\n"
      ],
      "metadata": {
        "colab": {
          "base_uri": "https://localhost:8080/"
        },
        "id": "o1twF03isvXe",
        "outputId": "d656b01a-a790-4c57-ef49-ac6c6e41dd50"
      },
      "execution_count": null,
      "outputs": [
        {
          "output_type": "stream",
          "name": "stdout",
          "text": [
            "Mounted at /content/drive\n"
          ]
        }
      ]
    },
    {
      "cell_type": "code",
      "execution_count": null,
      "metadata": {
        "id": "EENNWj1-hSug"
      },
      "outputs": [],
      "source": [
        "\n",
        "\n",
        "try:\n",
        "    model=joblib.load('/content/drive/MyDrive/Colab_supply_chain/Notebooks/w2v_4000_2.pkl')\n",
        "except:\n",
        "    model=joblib.load(\"w2v_4000_2.pkl\")\n",
        "\n",
        "try:\n",
        "    df=pd.read_csv('/content/drive/MyDrive/Colab_supply_chain/Data/commentaires_prepares2.csv')\n",
        "except:\n",
        "    df=pd.read_csv(\"commentaires_prepares2.csv\")\n"
      ]
    },
    {
      "cell_type": "code",
      "source": [
        "model"
      ],
      "metadata": {
        "id": "KvnY4FCLsSWt",
        "colab": {
          "base_uri": "https://localhost:8080/"
        },
        "outputId": "f7a721ac-a3ad-4aa4-8446-8d56f3cb73af"
      },
      "execution_count": null,
      "outputs": [
        {
          "output_type": "execute_result",
          "data": {
            "text/plain": [
              "<gensim.models.keyedvectors.KeyedVectors at 0x7bb5898c2860>"
            ]
          },
          "metadata": {},
          "execution_count": 5
        }
      ]
    },
    {
      "cell_type": "code",
      "source": [
        "df.shape"
      ],
      "metadata": {
        "colab": {
          "base_uri": "https://localhost:8080/"
        },
        "id": "GXcsGuxdkasU",
        "outputId": "dc2b0bd4-69a0-4f9e-bd1e-2d18253ac0f0"
      },
      "execution_count": null,
      "outputs": [
        {
          "output_type": "execute_result",
          "data": {
            "text/plain": [
              "(168897, 116)"
            ]
          },
          "metadata": {},
          "execution_count": 6
        }
      ]
    },
    {
      "cell_type": "code",
      "source": [
        "\n",
        "df=df.dropna(axis=0,how='any')\n",
        "df=df.rename(columns={\"Commentaire\":\"Text\"})\n",
        "df['Text'] = df['Text'].apply(lambda x: ' '.join(re.findall(r\"'(\\w+)'\", x)))\n",
        "display(df['Text'].head())\n",
        "df.shape"
      ],
      "metadata": {
        "colab": {
          "base_uri": "https://localhost:8080/",
          "height": 138
        },
        "id": "4PzvLd1ukPr-",
        "outputId": "53ec8030-fd3d-4436-c3f5-937c7b89af56"
      },
      "execution_count": null,
      "outputs": [
        {
          "output_type": "display_data",
          "data": {
            "text/plain": [
              "0    jamais reçu commande écris showroomprive clôtu...\n",
              "1    commandé collier lun ok lautre pa tout celui c...\n",
              "2    commandé airpods reconditionnés dit excellent ...\n",
              "3    produit acheté septembre retourné mois attends...\n",
              "4    encore commande partiellement annulée dernier ...\n",
              "Name: Text, dtype: object"
            ]
          },
          "metadata": {}
        },
        {
          "output_type": "execute_result",
          "data": {
            "text/plain": [
              "(168892, 116)"
            ]
          },
          "metadata": {},
          "execution_count": 7
        }
      ]
    },
    {
      "cell_type": "code",
      "execution_count": null,
      "metadata": {
        "id": "hroX5uUchSui",
        "colab": {
          "base_uri": "https://localhost:8080/"
        },
        "outputId": "2ae9c720-e1be-48f9-e230-5d6179b1126b"
      },
      "outputs": [
        {
          "output_type": "stream",
          "name": "stderr",
          "text": [
            "<ipython-input-8-2bf3f6ab681e>:7: SettingWithCopyWarning: \n",
            "A value is trying to be set on a copy of a slice from a DataFrame\n",
            "\n",
            "See the caveats in the documentation: https://pandas.pydata.org/pandas-docs/stable/user_guide/indexing.html#returning-a-view-versus-a-copy\n",
            "  df[\"Text\"].fillna('', inplace=True)\n"
          ]
        },
        {
          "output_type": "execute_result",
          "data": {
            "text/plain": [
              "(168892, 2)"
            ]
          },
          "metadata": {},
          "execution_count": 8
        }
      ],
      "source": [
        "# Création d'une nouvelle variable \"star_cluster\" pour séparer le jeu de données en 2 segments,\n",
        "# le segment des avis positifs (=1) et le segment des avis négatifs (=0)\n",
        "\n",
        "# df['Sentiment'] = df['star']\n",
        "df['Sentiment'] = df['star'].apply(lambda x: 1 if x >= 4 else 0)\n",
        "df=df[[\"Text\",\"Sentiment\"]]\n",
        "df[\"Text\"].fillna('', inplace=True)\n",
        "df.shape"
      ]
    },
    {
      "cell_type": "code",
      "source": [
        "\n"
      ],
      "metadata": {
        "id": "E8jb9pvOBYrO"
      },
      "execution_count": null,
      "outputs": []
    },
    {
      "cell_type": "code",
      "execution_count": null,
      "metadata": {
        "id": "RzbEw91qhSuj",
        "colab": {
          "base_uri": "https://localhost:8080/"
        },
        "outputId": "26aae3e8-6f64-43bd-a9c8-d9417c76b70c"
      },
      "outputs": [
        {
          "output_type": "stream",
          "name": "stdout",
          "text": [
            "Nombre de composantes retenues : 138\n"
          ]
        }
      ],
      "source": [
        "# Ca créer une liste qui contient des phrases tokenisées, représentées en liste de mots.\n",
        "sentences = [text_to_word_sequence(comment) for comment in df['Text']]\n",
        "\n",
        "\n",
        "X = []\n",
        "# Suite à des problèmes de mots qui ne sont pas retrouvés dans le modèle, ça recupère, le poids des mots de chaque phrase,\n",
        "# et stocke la moyenne des vecteurs, sauf si le mots n'est pas retrouvé dans le modèle, ce qui stocke le vecteur 0 pour la phrase\n",
        "for words in sentences:\n",
        "    vectors = [model[word] for word in words if word in model]\n",
        "    if vectors:\n",
        "      X.append(np.mean(vectors, axis=0))\n",
        "    else:\n",
        "      X.append(np.zeros(model.vector_size))  # Utiliser un vecteur nul si aucun mot valide n'est présent\n",
        "\n",
        "# Cela transforme la liste en une colonne, ça concatène verticalement\n",
        "X = np.vstack(X)\n",
        "y = df['Sentiment']\n",
        "\n",
        "from sklearn.decomposition import PCA\n",
        "\n",
        "# Appliquer l'ACP pour réduire la dimensionnalité\n",
        "pca = PCA(n_components = 0.9)\n",
        "X_pca = pca.fit_transform(X)\n",
        "print(\"Nombre de composantes retenues :\", pca.n_components_)\n",
        "\n",
        "\n",
        "\n",
        "# Diviser les données en ensembles d'entraînement et de test\n",
        "X_train, X_test, y_train, y_test = train_test_split(X_pca, y, test_size=0.25, random_state=42)"
      ]
    },
    {
      "cell_type": "code",
      "source": [
        "rf = RandomForestClassifier()\n",
        "rf.fit(X_train, y_train)\n",
        "\n",
        "y_pred = rf.predict(X_test)\n",
        "\n",
        "# Calcul et affichage de classification_report\n",
        "print( classification_report(y_test, y_pred) )\n",
        "\n",
        "# Calcul et affichage de la matrice de confusion\n",
        "confusion_matrix = pd.crosstab(y_test, y_pred, rownames=['Classe réelle'], colnames=['Classe prédite'])\n",
        "confusion_matrix"
      ],
      "metadata": {
        "id": "UndgsLxhENGv",
        "colab": {
          "base_uri": "https://localhost:8080/",
          "height": 299
        },
        "outputId": "577d0e68-fdce-419c-aade-8f40280d8763"
      },
      "execution_count": null,
      "outputs": [
        {
          "output_type": "stream",
          "name": "stdout",
          "text": [
            "              precision    recall  f1-score   support\n",
            "\n",
            "           0       0.84      0.77      0.80     16901\n",
            "           1       0.86      0.90      0.88     25322\n",
            "\n",
            "    accuracy                           0.85     42223\n",
            "   macro avg       0.85      0.84      0.84     42223\n",
            "weighted avg       0.85      0.85      0.85     42223\n",
            "\n"
          ]
        },
        {
          "output_type": "execute_result",
          "data": {
            "text/plain": [
              "Classe prédite      0      1\n",
              "Classe réelle               \n",
              "0               13096   3805\n",
              "1                2574  22748"
            ],
            "text/html": [
              "\n",
              "\n",
              "  <div id=\"df-2474a5b5-36e1-4edb-8ccf-b03ee0ff7eab\">\n",
              "    <div class=\"colab-df-container\">\n",
              "      <div>\n",
              "<style scoped>\n",
              "    .dataframe tbody tr th:only-of-type {\n",
              "        vertical-align: middle;\n",
              "    }\n",
              "\n",
              "    .dataframe tbody tr th {\n",
              "        vertical-align: top;\n",
              "    }\n",
              "\n",
              "    .dataframe thead th {\n",
              "        text-align: right;\n",
              "    }\n",
              "</style>\n",
              "<table border=\"1\" class=\"dataframe\">\n",
              "  <thead>\n",
              "    <tr style=\"text-align: right;\">\n",
              "      <th>Classe prédite</th>\n",
              "      <th>0</th>\n",
              "      <th>1</th>\n",
              "    </tr>\n",
              "    <tr>\n",
              "      <th>Classe réelle</th>\n",
              "      <th></th>\n",
              "      <th></th>\n",
              "    </tr>\n",
              "  </thead>\n",
              "  <tbody>\n",
              "    <tr>\n",
              "      <th>0</th>\n",
              "      <td>13096</td>\n",
              "      <td>3805</td>\n",
              "    </tr>\n",
              "    <tr>\n",
              "      <th>1</th>\n",
              "      <td>2574</td>\n",
              "      <td>22748</td>\n",
              "    </tr>\n",
              "  </tbody>\n",
              "</table>\n",
              "</div>\n",
              "      <button class=\"colab-df-convert\" onclick=\"convertToInteractive('df-2474a5b5-36e1-4edb-8ccf-b03ee0ff7eab')\"\n",
              "              title=\"Convert this dataframe to an interactive table.\"\n",
              "              style=\"display:none;\">\n",
              "\n",
              "  <svg xmlns=\"http://www.w3.org/2000/svg\" height=\"24px\"viewBox=\"0 0 24 24\"\n",
              "       width=\"24px\">\n",
              "    <path d=\"M0 0h24v24H0V0z\" fill=\"none\"/>\n",
              "    <path d=\"M18.56 5.44l.94 2.06.94-2.06 2.06-.94-2.06-.94-.94-2.06-.94 2.06-2.06.94zm-11 1L8.5 8.5l.94-2.06 2.06-.94-2.06-.94L8.5 2.5l-.94 2.06-2.06.94zm10 10l.94 2.06.94-2.06 2.06-.94-2.06-.94-.94-2.06-.94 2.06-2.06.94z\"/><path d=\"M17.41 7.96l-1.37-1.37c-.4-.4-.92-.59-1.43-.59-.52 0-1.04.2-1.43.59L10.3 9.45l-7.72 7.72c-.78.78-.78 2.05 0 2.83L4 21.41c.39.39.9.59 1.41.59.51 0 1.02-.2 1.41-.59l7.78-7.78 2.81-2.81c.8-.78.8-2.07 0-2.86zM5.41 20L4 18.59l7.72-7.72 1.47 1.35L5.41 20z\"/>\n",
              "  </svg>\n",
              "      </button>\n",
              "\n",
              "\n",
              "\n",
              "    <div id=\"df-4f0a83f6-9717-44aa-a85f-97e959906b27\">\n",
              "      <button class=\"colab-df-quickchart\" onclick=\"quickchart('df-4f0a83f6-9717-44aa-a85f-97e959906b27')\"\n",
              "              title=\"Suggest charts.\"\n",
              "              style=\"display:none;\">\n",
              "\n",
              "<svg xmlns=\"http://www.w3.org/2000/svg\" height=\"24px\"viewBox=\"0 0 24 24\"\n",
              "     width=\"24px\">\n",
              "    <g>\n",
              "        <path d=\"M19 3H5c-1.1 0-2 .9-2 2v14c0 1.1.9 2 2 2h14c1.1 0 2-.9 2-2V5c0-1.1-.9-2-2-2zM9 17H7v-7h2v7zm4 0h-2V7h2v10zm4 0h-2v-4h2v4z\"/>\n",
              "    </g>\n",
              "</svg>\n",
              "      </button>\n",
              "    </div>\n",
              "\n",
              "<style>\n",
              "  .colab-df-quickchart {\n",
              "    background-color: #E8F0FE;\n",
              "    border: none;\n",
              "    border-radius: 50%;\n",
              "    cursor: pointer;\n",
              "    display: none;\n",
              "    fill: #1967D2;\n",
              "    height: 32px;\n",
              "    padding: 0 0 0 0;\n",
              "    width: 32px;\n",
              "  }\n",
              "\n",
              "  .colab-df-quickchart:hover {\n",
              "    background-color: #E2EBFA;\n",
              "    box-shadow: 0px 1px 2px rgba(60, 64, 67, 0.3), 0px 1px 3px 1px rgba(60, 64, 67, 0.15);\n",
              "    fill: #174EA6;\n",
              "  }\n",
              "\n",
              "  [theme=dark] .colab-df-quickchart {\n",
              "    background-color: #3B4455;\n",
              "    fill: #D2E3FC;\n",
              "  }\n",
              "\n",
              "  [theme=dark] .colab-df-quickchart:hover {\n",
              "    background-color: #434B5C;\n",
              "    box-shadow: 0px 1px 3px 1px rgba(0, 0, 0, 0.15);\n",
              "    filter: drop-shadow(0px 1px 2px rgba(0, 0, 0, 0.3));\n",
              "    fill: #FFFFFF;\n",
              "  }\n",
              "</style>\n",
              "\n",
              "    <script>\n",
              "      async function quickchart(key) {\n",
              "        const containerElement = document.querySelector('#' + key);\n",
              "        const charts = await google.colab.kernel.invokeFunction(\n",
              "            'suggestCharts', [key], {});\n",
              "      }\n",
              "    </script>\n",
              "\n",
              "      <script>\n",
              "\n",
              "function displayQuickchartButton(domScope) {\n",
              "  let quickchartButtonEl =\n",
              "    domScope.querySelector('#df-4f0a83f6-9717-44aa-a85f-97e959906b27 button.colab-df-quickchart');\n",
              "  quickchartButtonEl.style.display =\n",
              "    google.colab.kernel.accessAllowed ? 'block' : 'none';\n",
              "}\n",
              "\n",
              "        displayQuickchartButton(document);\n",
              "      </script>\n",
              "      <style>\n",
              "    .colab-df-container {\n",
              "      display:flex;\n",
              "      flex-wrap:wrap;\n",
              "      gap: 12px;\n",
              "    }\n",
              "\n",
              "    .colab-df-convert {\n",
              "      background-color: #E8F0FE;\n",
              "      border: none;\n",
              "      border-radius: 50%;\n",
              "      cursor: pointer;\n",
              "      display: none;\n",
              "      fill: #1967D2;\n",
              "      height: 32px;\n",
              "      padding: 0 0 0 0;\n",
              "      width: 32px;\n",
              "    }\n",
              "\n",
              "    .colab-df-convert:hover {\n",
              "      background-color: #E2EBFA;\n",
              "      box-shadow: 0px 1px 2px rgba(60, 64, 67, 0.3), 0px 1px 3px 1px rgba(60, 64, 67, 0.15);\n",
              "      fill: #174EA6;\n",
              "    }\n",
              "\n",
              "    [theme=dark] .colab-df-convert {\n",
              "      background-color: #3B4455;\n",
              "      fill: #D2E3FC;\n",
              "    }\n",
              "\n",
              "    [theme=dark] .colab-df-convert:hover {\n",
              "      background-color: #434B5C;\n",
              "      box-shadow: 0px 1px 3px 1px rgba(0, 0, 0, 0.15);\n",
              "      filter: drop-shadow(0px 1px 2px rgba(0, 0, 0, 0.3));\n",
              "      fill: #FFFFFF;\n",
              "    }\n",
              "  </style>\n",
              "\n",
              "      <script>\n",
              "        const buttonEl =\n",
              "          document.querySelector('#df-2474a5b5-36e1-4edb-8ccf-b03ee0ff7eab button.colab-df-convert');\n",
              "        buttonEl.style.display =\n",
              "          google.colab.kernel.accessAllowed ? 'block' : 'none';\n",
              "\n",
              "        async function convertToInteractive(key) {\n",
              "          const element = document.querySelector('#df-2474a5b5-36e1-4edb-8ccf-b03ee0ff7eab');\n",
              "          const dataTable =\n",
              "            await google.colab.kernel.invokeFunction('convertToInteractive',\n",
              "                                                     [key], {});\n",
              "          if (!dataTable) return;\n",
              "\n",
              "          const docLinkHtml = 'Like what you see? Visit the ' +\n",
              "            '<a target=\"_blank\" href=https://colab.research.google.com/notebooks/data_table.ipynb>data table notebook</a>'\n",
              "            + ' to learn more about interactive tables.';\n",
              "          element.innerHTML = '';\n",
              "          dataTable['output_type'] = 'display_data';\n",
              "          await google.colab.output.renderOutput(dataTable, element);\n",
              "          const docLink = document.createElement('div');\n",
              "          docLink.innerHTML = docLinkHtml;\n",
              "          element.appendChild(docLink);\n",
              "        }\n",
              "      </script>\n",
              "    </div>\n",
              "  </div>\n"
            ]
          },
          "metadata": {},
          "execution_count": 13
        }
      ]
    },
    {
      "cell_type": "code",
      "execution_count": null,
      "metadata": {
        "id": "SUfE4AkrhSul",
        "colab": {
          "base_uri": "https://localhost:8080/"
        },
        "outputId": "f6e83ca7-6570-419f-f0da-fce5f5190d3c"
      },
      "outputs": [
        {
          "output_type": "execute_result",
          "data": {
            "text/plain": [
              "[('sachet', 0.23088617622852325),\n",
              " ('casser', 0.22622404992580414),\n",
              " ('rapidité', 0.21335779130458832),\n",
              " ('complètement', 0.21328598260879517),\n",
              " ('gardé', 0.21136388182640076),\n",
              " ('entourage', 0.20842692255973816),\n",
              " ('verre', 0.20212896168231964),\n",
              " ('souple', 0.2011796236038208),\n",
              " ('rapide', 0.19644862413406372),\n",
              " ('plait', 0.19479654729366302)]"
            ]
          },
          "metadata": {},
          "execution_count": 15
        }
      ],
      "source": [
        "model.most_similar(negative=[\"livraison\"])"
      ]
    },
    {
      "cell_type": "code",
      "execution_count": null,
      "metadata": {
        "id": "lsVS-WsWhSum"
      },
      "outputs": [],
      "source": [
        "model.wv.similarity(\"satisfait\", 'content')"
      ]
    },
    {
      "cell_type": "code",
      "execution_count": null,
      "metadata": {
        "id": "owESWJY7hSun"
      },
      "outputs": [],
      "source": [
        "model.wv.most_similar(positive=[\"satisfait\", \"content\"], negative=[\"livraison\"], topn=3)"
      ]
    },
    {
      "cell_type": "code",
      "execution_count": null,
      "metadata": {
        "id": "GA73sadRhSuo"
      },
      "outputs": [],
      "source": []
    },
    {
      "cell_type": "code",
      "source": [
        "import xgboost as xgb\n",
        "\n",
        "# X_train = np.asarray(X_train)\n",
        "# y_train = np.asarray(y_train)\n",
        "# X_test = np.asarray(X_test)\n",
        "\n",
        "# param_grid = {\n",
        "#     'n_estimators': [1000,4000],\n",
        "#     'learning_rate': [0.1],\n",
        "#     'max_depth': [9]\n",
        "# }\n",
        "\n",
        "clf = xgb.XGBClassifier(\n",
        "    n_estimators=200,\n",
        "    learning_rate=0.1,\n",
        "    max_depth=5,\n",
        "    n_jobs=-1,\n",
        "    )\n",
        "\n",
        "clf.fit(X_train, y_train)\n",
        "y_pred = clf.predict(X_test)\n",
        "\n",
        "#  Importer la classe classification_report\n",
        "from sklearn.metrics import classification_report\n",
        "\n",
        "# Calcul et affichage de classification_report\n",
        "print( classification_report(y_test, y_pred) )\n",
        "\n",
        "display(clf.score(X_train, y_train))\n",
        "display(clf.score(X_test, y_test))\n",
        "\n",
        "# Calcul et affichage de la matrice de confusion\n",
        "confusion_matrix = pd.crosstab(y_test, y_pred, rownames=['Classe réelle'], colnames=['Classe prédite'])\n",
        "confusion_matrix\n"
      ],
      "metadata": {
        "id": "P5h220GTOk07",
        "colab": {
          "base_uri": "https://localhost:8080/",
          "height": 334
        },
        "outputId": "7ad4b81b-eaac-44c7-f99f-93cddea9702f"
      },
      "execution_count": null,
      "outputs": [
        {
          "output_type": "stream",
          "name": "stdout",
          "text": [
            "              precision    recall  f1-score   support\n",
            "\n",
            "           0       0.84      0.83      0.84     16901\n",
            "           1       0.89      0.89      0.89     25322\n",
            "\n",
            "    accuracy                           0.87     42223\n",
            "   macro avg       0.86      0.86      0.86     42223\n",
            "weighted avg       0.87      0.87      0.87     42223\n",
            "\n"
          ]
        },
        {
          "output_type": "display_data",
          "data": {
            "text/plain": [
              "0.8938887967853224"
            ]
          },
          "metadata": {}
        },
        {
          "output_type": "display_data",
          "data": {
            "text/plain": [
              "0.8696445065485636"
            ]
          },
          "metadata": {}
        },
        {
          "output_type": "execute_result",
          "data": {
            "text/plain": [
              "Classe prédite      0      1\n",
              "Classe réelle               \n",
              "0               14073   2828\n",
              "1                2676  22646"
            ],
            "text/html": [
              "\n",
              "\n",
              "  <div id=\"df-cb137144-9db8-4eef-98f3-6ab289a08e9e\">\n",
              "    <div class=\"colab-df-container\">\n",
              "      <div>\n",
              "<style scoped>\n",
              "    .dataframe tbody tr th:only-of-type {\n",
              "        vertical-align: middle;\n",
              "    }\n",
              "\n",
              "    .dataframe tbody tr th {\n",
              "        vertical-align: top;\n",
              "    }\n",
              "\n",
              "    .dataframe thead th {\n",
              "        text-align: right;\n",
              "    }\n",
              "</style>\n",
              "<table border=\"1\" class=\"dataframe\">\n",
              "  <thead>\n",
              "    <tr style=\"text-align: right;\">\n",
              "      <th>Classe prédite</th>\n",
              "      <th>0</th>\n",
              "      <th>1</th>\n",
              "    </tr>\n",
              "    <tr>\n",
              "      <th>Classe réelle</th>\n",
              "      <th></th>\n",
              "      <th></th>\n",
              "    </tr>\n",
              "  </thead>\n",
              "  <tbody>\n",
              "    <tr>\n",
              "      <th>0</th>\n",
              "      <td>14073</td>\n",
              "      <td>2828</td>\n",
              "    </tr>\n",
              "    <tr>\n",
              "      <th>1</th>\n",
              "      <td>2676</td>\n",
              "      <td>22646</td>\n",
              "    </tr>\n",
              "  </tbody>\n",
              "</table>\n",
              "</div>\n",
              "      <button class=\"colab-df-convert\" onclick=\"convertToInteractive('df-cb137144-9db8-4eef-98f3-6ab289a08e9e')\"\n",
              "              title=\"Convert this dataframe to an interactive table.\"\n",
              "              style=\"display:none;\">\n",
              "\n",
              "  <svg xmlns=\"http://www.w3.org/2000/svg\" height=\"24px\"viewBox=\"0 0 24 24\"\n",
              "       width=\"24px\">\n",
              "    <path d=\"M0 0h24v24H0V0z\" fill=\"none\"/>\n",
              "    <path d=\"M18.56 5.44l.94 2.06.94-2.06 2.06-.94-2.06-.94-.94-2.06-.94 2.06-2.06.94zm-11 1L8.5 8.5l.94-2.06 2.06-.94-2.06-.94L8.5 2.5l-.94 2.06-2.06.94zm10 10l.94 2.06.94-2.06 2.06-.94-2.06-.94-.94-2.06-.94 2.06-2.06.94z\"/><path d=\"M17.41 7.96l-1.37-1.37c-.4-.4-.92-.59-1.43-.59-.52 0-1.04.2-1.43.59L10.3 9.45l-7.72 7.72c-.78.78-.78 2.05 0 2.83L4 21.41c.39.39.9.59 1.41.59.51 0 1.02-.2 1.41-.59l7.78-7.78 2.81-2.81c.8-.78.8-2.07 0-2.86zM5.41 20L4 18.59l7.72-7.72 1.47 1.35L5.41 20z\"/>\n",
              "  </svg>\n",
              "      </button>\n",
              "\n",
              "\n",
              "\n",
              "    <div id=\"df-98e40b51-447e-4bb2-811a-d528202189f1\">\n",
              "      <button class=\"colab-df-quickchart\" onclick=\"quickchart('df-98e40b51-447e-4bb2-811a-d528202189f1')\"\n",
              "              title=\"Suggest charts.\"\n",
              "              style=\"display:none;\">\n",
              "\n",
              "<svg xmlns=\"http://www.w3.org/2000/svg\" height=\"24px\"viewBox=\"0 0 24 24\"\n",
              "     width=\"24px\">\n",
              "    <g>\n",
              "        <path d=\"M19 3H5c-1.1 0-2 .9-2 2v14c0 1.1.9 2 2 2h14c1.1 0 2-.9 2-2V5c0-1.1-.9-2-2-2zM9 17H7v-7h2v7zm4 0h-2V7h2v10zm4 0h-2v-4h2v4z\"/>\n",
              "    </g>\n",
              "</svg>\n",
              "      </button>\n",
              "    </div>\n",
              "\n",
              "<style>\n",
              "  .colab-df-quickchart {\n",
              "    background-color: #E8F0FE;\n",
              "    border: none;\n",
              "    border-radius: 50%;\n",
              "    cursor: pointer;\n",
              "    display: none;\n",
              "    fill: #1967D2;\n",
              "    height: 32px;\n",
              "    padding: 0 0 0 0;\n",
              "    width: 32px;\n",
              "  }\n",
              "\n",
              "  .colab-df-quickchart:hover {\n",
              "    background-color: #E2EBFA;\n",
              "    box-shadow: 0px 1px 2px rgba(60, 64, 67, 0.3), 0px 1px 3px 1px rgba(60, 64, 67, 0.15);\n",
              "    fill: #174EA6;\n",
              "  }\n",
              "\n",
              "  [theme=dark] .colab-df-quickchart {\n",
              "    background-color: #3B4455;\n",
              "    fill: #D2E3FC;\n",
              "  }\n",
              "\n",
              "  [theme=dark] .colab-df-quickchart:hover {\n",
              "    background-color: #434B5C;\n",
              "    box-shadow: 0px 1px 3px 1px rgba(0, 0, 0, 0.15);\n",
              "    filter: drop-shadow(0px 1px 2px rgba(0, 0, 0, 0.3));\n",
              "    fill: #FFFFFF;\n",
              "  }\n",
              "</style>\n",
              "\n",
              "    <script>\n",
              "      async function quickchart(key) {\n",
              "        const containerElement = document.querySelector('#' + key);\n",
              "        const charts = await google.colab.kernel.invokeFunction(\n",
              "            'suggestCharts', [key], {});\n",
              "      }\n",
              "    </script>\n",
              "\n",
              "      <script>\n",
              "\n",
              "function displayQuickchartButton(domScope) {\n",
              "  let quickchartButtonEl =\n",
              "    domScope.querySelector('#df-98e40b51-447e-4bb2-811a-d528202189f1 button.colab-df-quickchart');\n",
              "  quickchartButtonEl.style.display =\n",
              "    google.colab.kernel.accessAllowed ? 'block' : 'none';\n",
              "}\n",
              "\n",
              "        displayQuickchartButton(document);\n",
              "      </script>\n",
              "      <style>\n",
              "    .colab-df-container {\n",
              "      display:flex;\n",
              "      flex-wrap:wrap;\n",
              "      gap: 12px;\n",
              "    }\n",
              "\n",
              "    .colab-df-convert {\n",
              "      background-color: #E8F0FE;\n",
              "      border: none;\n",
              "      border-radius: 50%;\n",
              "      cursor: pointer;\n",
              "      display: none;\n",
              "      fill: #1967D2;\n",
              "      height: 32px;\n",
              "      padding: 0 0 0 0;\n",
              "      width: 32px;\n",
              "    }\n",
              "\n",
              "    .colab-df-convert:hover {\n",
              "      background-color: #E2EBFA;\n",
              "      box-shadow: 0px 1px 2px rgba(60, 64, 67, 0.3), 0px 1px 3px 1px rgba(60, 64, 67, 0.15);\n",
              "      fill: #174EA6;\n",
              "    }\n",
              "\n",
              "    [theme=dark] .colab-df-convert {\n",
              "      background-color: #3B4455;\n",
              "      fill: #D2E3FC;\n",
              "    }\n",
              "\n",
              "    [theme=dark] .colab-df-convert:hover {\n",
              "      background-color: #434B5C;\n",
              "      box-shadow: 0px 1px 3px 1px rgba(0, 0, 0, 0.15);\n",
              "      filter: drop-shadow(0px 1px 2px rgba(0, 0, 0, 0.3));\n",
              "      fill: #FFFFFF;\n",
              "    }\n",
              "  </style>\n",
              "\n",
              "      <script>\n",
              "        const buttonEl =\n",
              "          document.querySelector('#df-cb137144-9db8-4eef-98f3-6ab289a08e9e button.colab-df-convert');\n",
              "        buttonEl.style.display =\n",
              "          google.colab.kernel.accessAllowed ? 'block' : 'none';\n",
              "\n",
              "        async function convertToInteractive(key) {\n",
              "          const element = document.querySelector('#df-cb137144-9db8-4eef-98f3-6ab289a08e9e');\n",
              "          const dataTable =\n",
              "            await google.colab.kernel.invokeFunction('convertToInteractive',\n",
              "                                                     [key], {});\n",
              "          if (!dataTable) return;\n",
              "\n",
              "          const docLinkHtml = 'Like what you see? Visit the ' +\n",
              "            '<a target=\"_blank\" href=https://colab.research.google.com/notebooks/data_table.ipynb>data table notebook</a>'\n",
              "            + ' to learn more about interactive tables.';\n",
              "          element.innerHTML = '';\n",
              "          dataTable['output_type'] = 'display_data';\n",
              "          await google.colab.output.renderOutput(dataTable, element);\n",
              "          const docLink = document.createElement('div');\n",
              "          docLink.innerHTML = docLinkHtml;\n",
              "          element.appendChild(docLink);\n",
              "        }\n",
              "      </script>\n",
              "    </div>\n",
              "  </div>\n"
            ]
          },
          "metadata": {},
          "execution_count": 10
        }
      ]
    },
    {
      "cell_type": "code",
      "source": [
        "display(clf.score(X_train, y_train))\n",
        "display(clf.score(X_test, y_test))"
      ],
      "metadata": {
        "colab": {
          "base_uri": "https://localhost:8080/",
          "height": 52
        },
        "id": "R9zTw18weQcO",
        "outputId": "2306a008-7c82-40f0-a6a7-4ee68c527aa6"
      },
      "execution_count": null,
      "outputs": [
        {
          "output_type": "display_data",
          "data": {
            "text/plain": [
              "0.8828995255350559"
            ]
          },
          "metadata": {}
        },
        {
          "output_type": "execute_result",
          "data": {
            "text/plain": [
              "0.8651445894417734"
            ]
          },
          "metadata": {},
          "execution_count": 30
        }
      ]
    },
    {
      "cell_type": "code",
      "execution_count": null,
      "metadata": {
        "id": "cHiVpv6YhSuq"
      },
      "outputs": [],
      "source": [
        "# Récupération des scores d'accuracy\n",
        "accuracies = grid_search.cv_results_['mean_test_score']\n",
        "\n",
        "# Création du graphique\n",
        "plt.plot(range(len(accuracies)), accuracies)\n",
        "plt.xlabel('Test')\n",
        "plt.ylabel('Accuracy')\n",
        "plt.title('Scores d\\'accuracy de chaque test de la validation croisée')\n",
        "plt.show()"
      ]
    },
    {
      "cell_type": "code",
      "execution_count": null,
      "metadata": {
        "id": "profI8P7hSus"
      },
      "outputs": [],
      "source": [
        "import numpy as np\n",
        "import seaborn as sns\n",
        "import matplotlib.pyplot as plt\n",
        "\n",
        "y_pred = clf.predict(X_test)\n",
        "data = pd.DataFrame({'star': y_test.values})\n",
        "data['y_pred'] = y_pred\n",
        "fig, ax = plt.subplots(figsize=[15,8])\n",
        "sns.violinplot(x=\"star\", y=\"y_pred\", data=data, ax=ax)\n",
        "plt.show()"
      ]
    },
    {
      "cell_type": "code",
      "source": [
        "import joblib\n",
        "\n",
        "# joblib.dump(rf, 'w2v_rf.pkl')\n",
        "joblib.dump(pca, 'w2v_pca_4000_v2.pkl')\n",
        "joblib.dump(clf, 'w2v_clf_pca_4000_200_01_5_v2.pkl')"
      ],
      "metadata": {
        "colab": {
          "base_uri": "https://localhost:8080/"
        },
        "id": "FKdwNPk1oEq0",
        "outputId": "acaa5986-c480-4d9b-b6df-254a5683a86d"
      },
      "execution_count": null,
      "outputs": [
        {
          "output_type": "execute_result",
          "data": {
            "text/plain": [
              "['w2v_clf_pca_4000_200_01_5_v2.pkl']"
            ]
          },
          "metadata": {},
          "execution_count": 11
        }
      ]
    },
    {
      "cell_type": "code",
      "execution_count": null,
      "metadata": {
        "id": "mOahjdEwhSuv"
      },
      "outputs": [],
      "source": [
        "import joblib\n",
        "\n",
        "joblib.dump(rf, 'w2v_rf.pkl')\n",
        "joblib.dump(pca, 'w2v_pca.pkl')\n",
        "joblib.dump(clf, 'w2v_clf.pkl')\n",
        "\n",
        "# Charger le modèle sauvegardé\n",
        "loaded_model = joblib.load('w2v_clf.pkl')\n",
        "\n",
        "# Commentaires pour lesquels vous souhaitez effectuer des prédictions\n",
        "comments = [\"très déçus\", \"Je ne recommande pas\"]\n",
        "\n",
        "# Appliquer la même prétraitement que vous avez effectué sur les données d'entraînement (par exemple, le nettoyage des commentaires et la tokenisation)\n",
        "preprocessed_comments = [text_to_word_sequence(comment) for comment in comments]\n",
        "\n",
        "# Calculer les vecteurs d'embedding pour chaque commentaire\n",
        "comment_vectors = []\n",
        "for words in preprocessed_comments:\n",
        "    vectors = [model.wv[word] for word in words if word in model.wv]\n",
        "    if vectors:\n",
        "        comment_vectors.append(np.mean(vectors, axis=0))\n",
        "    else:\n",
        "        comment_vectors.append(np.zeros(model.vector_size))\n",
        "\n",
        "# Empiler les vecteurs pour obtenir un tableau 2D\n",
        "comment_vectors = np.vstack(comment_vectors)\n",
        "\n",
        "# Faire les prédictions sur les commentaires\n",
        "predicted_sentiments = loaded_model.predict(comment_vectors)\n",
        "\n",
        "# Afficher les prédictions\n",
        "for comment, sentiment in zip(comments, predicted_sentiments):\n",
        "    print(f\"Commentaire: {comment}\")\n",
        "    print(f\"Sentiment prédit: {'Positive' if sentiment == 1 else 'Negative'}\")\n",
        "    print()"
      ]
    },
    {
      "cell_type": "code",
      "execution_count": null,
      "metadata": {
        "id": "KjCXr4hdhSuv"
      },
      "outputs": [],
      "source": [
        "importance = clf.feature_importances_\n",
        "features_names = list(range(len(importance)))  # Remplacez cette liste par les noms de vos fonctionnalités si disponibles\n",
        "\n",
        "plt.figure(figsize=(12, 6))\n",
        "plt.bar(features_names, importance)\n",
        "plt.xlabel('Fonctionnalité')\n",
        "plt.ylabel('Importance')\n",
        "plt.title('Importance des fonctionnalités dans le modèle XGBoost')\n",
        "plt.xticks(rotation=90)\n",
        "plt.show()"
      ]
    },
    {
      "cell_type": "code",
      "source": [
        "import shap\n",
        "\n",
        "explainer = shap.Explainer(clf)\n",
        "shap_values = explainer(X_test)\n",
        "shap.summary_plot(shap_values, X_test)"
      ],
      "metadata": {
        "id": "WXGAr4aMHD_0"
      },
      "execution_count": null,
      "outputs": []
    },
    {
      "cell_type": "code",
      "source": [
        "model.most_similar(negative=[\"livraison\",\"rapide\"])"
      ],
      "metadata": {
        "id": "ObAjtk_ptI0V"
      },
      "execution_count": null,
      "outputs": []
    }
  ],
  "metadata": {
    "kernelspec": {
      "display_name": "Python 3",
      "name": "python3"
    },
    "language_info": {
      "codemirror_mode": {
        "name": "ipython",
        "version": 3
      },
      "file_extension": ".py",
      "mimetype": "text/x-python",
      "name": "python",
      "nbconvert_exporter": "python",
      "pygments_lexer": "ipython3",
      "version": "3.8.3"
    },
    "colab": {
      "provenance": [],
      "machine_shape": "hm",
      "include_colab_link": true
    }
  },
  "nbformat": 4,
  "nbformat_minor": 0
}
