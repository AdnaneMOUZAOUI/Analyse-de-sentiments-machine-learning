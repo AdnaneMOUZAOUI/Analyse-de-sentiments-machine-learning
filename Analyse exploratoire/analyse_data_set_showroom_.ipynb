{
  "cells": [
    {
      "cell_type": "markdown",
      "metadata": {
        "id": "view-in-github",
        "colab_type": "text"
      },
      "source": [
        "<a href=\"https://colab.research.google.com/github/AdnaneMOUZAOUI/Analyse-de-sentiments-machine-learning/blob/Reviews-Analysis/analyse_data_set_showroom_.ipynb\" target=\"_parent\"><img src=\"https://colab.research.google.com/assets/colab-badge.svg\" alt=\"Open In Colab\"/></a>"
      ]
    },
    {
      "cell_type": "markdown",
      "id": "96c1fbb1",
      "metadata": {
        "id": "96c1fbb1"
      },
      "source": [
        "\n",
        "\n",
        "# Exploration du fichier ShowRoomprivé 'scrape' issu de Trustpilot\n",
        "\n"
      ]
    },
    {
      "cell_type": "code",
      "execution_count": null,
      "id": "6350a91b",
      "metadata": {
        "id": "6350a91b"
      },
      "outputs": [],
      "source": [
        "import pandas as pd\n",
        "import numpy as np\n",
        "\n",
        "import matplotlib.pyplot as plt\n",
        "%matplotlib inline\n",
        "\n",
        "import seaborn as sns\n",
        "\n",
        "import datetime\n",
        "from datetime import date, datetime, time"
      ]
    },
    {
      "cell_type": "code",
      "execution_count": null,
      "id": "6f881f1b",
      "metadata": {
        "id": "6f881f1b",
        "outputId": "7827c59d-e462-44d6-ea4e-ab5063eb0837"
      },
      "outputs": [
        {
          "data": {
            "text/html": [
              "<div>\n",
              "<style scoped>\n",
              "    .dataframe tbody tr th:only-of-type {\n",
              "        vertical-align: middle;\n",
              "    }\n",
              "\n",
              "    .dataframe tbody tr th {\n",
              "        vertical-align: top;\n",
              "    }\n",
              "\n",
              "    .dataframe thead th {\n",
              "        text-align: right;\n",
              "    }\n",
              "</style>\n",
              "<table border=\"1\" class=\"dataframe\">\n",
              "  <thead>\n",
              "    <tr style=\"text-align: right;\">\n",
              "      <th></th>\n",
              "      <th>nom_client</th>\n",
              "      <th>note_avis</th>\n",
              "      <th>date_achat</th>\n",
              "      <th>date_avis</th>\n",
              "      <th>nbr_avis</th>\n",
              "      <th>text_avis</th>\n",
              "      <th>pays</th>\n",
              "      <th>titre_avis</th>\n",
              "    </tr>\n",
              "  </thead>\n",
              "  <tbody>\n",
              "    <tr>\n",
              "      <th>0</th>\n",
              "      <td>Agani</td>\n",
              "      <td>1.0</td>\n",
              "      <td>: 26 août 2022</td>\n",
              "      <td>2023-02-27</td>\n",
              "      <td>2.0</td>\n",
              "      <td>Je n’ai jamais reçu ma commande. J’ai écris à ...</td>\n",
              "      <td>FR</td>\n",
              "      <td>Je n’ai jamais reçu ma commande</td>\n",
              "    </tr>\n",
              "    <tr>\n",
              "      <th>1</th>\n",
              "      <td>CHANTAL SLATKINE</td>\n",
              "      <td>1.0</td>\n",
              "      <td>: 26 février 2023</td>\n",
              "      <td>2023-02-27</td>\n",
              "      <td>2.0</td>\n",
              "      <td>J'ai commandé 2 colliers. L'un est OK l'autre ...</td>\n",
              "      <td>FR</td>\n",
              "      <td>J'ai commandé 2 colliers</td>\n",
              "    </tr>\n",
              "    <tr>\n",
              "      <th>2</th>\n",
              "      <td>LDC</td>\n",
              "      <td>1.0</td>\n",
              "      <td>: 26 février 2023</td>\n",
              "      <td>2023-02-27</td>\n",
              "      <td>2.0</td>\n",
              "      <td>J ai commandé des airpods reconditionnés, dit ...</td>\n",
              "      <td>FR</td>\n",
              "      <td>Très déçue de la dernière commande.</td>\n",
              "    </tr>\n",
              "    <tr>\n",
              "      <th>3</th>\n",
              "      <td>anass jeffal</td>\n",
              "      <td>1.0</td>\n",
              "      <td>: 27 octobre 2022</td>\n",
              "      <td>2023-02-27</td>\n",
              "      <td>1.0</td>\n",
              "      <td>Produit acheté en Septembre 2022 retourné le m...</td>\n",
              "      <td>FR</td>\n",
              "      <td>Produit acheté en Septembre 2022…</td>\n",
              "    </tr>\n",
              "    <tr>\n",
              "      <th>4</th>\n",
              "      <td>aurélien</td>\n",
              "      <td>1.0</td>\n",
              "      <td>: 27 février 2023</td>\n",
              "      <td>2023-02-27</td>\n",
              "      <td>1.0</td>\n",
              "      <td>encore une commande partiellement annulée au d...</td>\n",
              "      <td>FR</td>\n",
              "      <td>encore une commande partiellement…</td>\n",
              "    </tr>\n",
              "    <tr>\n",
              "      <th>...</th>\n",
              "      <td>...</td>\n",
              "      <td>...</td>\n",
              "      <td>...</td>\n",
              "      <td>...</td>\n",
              "      <td>...</td>\n",
              "      <td>...</td>\n",
              "      <td>...</td>\n",
              "      <td>...</td>\n",
              "    </tr>\n",
              "    <tr>\n",
              "      <th>168892</th>\n",
              "      <td>Marie</td>\n",
              "      <td>4.0</td>\n",
              "      <td>: 28 décembre 2014</td>\n",
              "      <td>2014-12-28</td>\n",
              "      <td>1.0</td>\n",
              "      <td>Je suis satisfaite de ma commande</td>\n",
              "      <td>FR</td>\n",
              "      <td>satisfaite</td>\n",
              "    </tr>\n",
              "    <tr>\n",
              "      <th>168893</th>\n",
              "      <td>Celine</td>\n",
              "      <td>4.0</td>\n",
              "      <td>: 28 décembre 2014</td>\n",
              "      <td>2014-12-28</td>\n",
              "      <td>1.0</td>\n",
              "      <td>Très bien et très rapide\\nJe suis satisfaite d...</td>\n",
              "      <td>FR</td>\n",
              "      <td>excellent et très rapide</td>\n",
              "    </tr>\n",
              "    <tr>\n",
              "      <th>168894</th>\n",
              "      <td>Da costa</td>\n",
              "      <td>2.0</td>\n",
              "      <td>: 28 décembre 2014</td>\n",
              "      <td>2014-12-28</td>\n",
              "      <td>1.0</td>\n",
              "      <td>J'ai commandé mi octobre pour pouvoir recevoir...</td>\n",
              "      <td>FR</td>\n",
              "      <td>Aujourd'hui je n'ai toujours pas ma commande</td>\n",
              "    </tr>\n",
              "    <tr>\n",
              "      <th>168895</th>\n",
              "      <td>Marie</td>\n",
              "      <td>1.0</td>\n",
              "      <td>: 28 décembre 2014</td>\n",
              "      <td>2014-12-28</td>\n",
              "      <td>1.0</td>\n",
              "      <td>lorsque j'ai vu la toile sur le site, cela m'a...</td>\n",
              "      <td>FR</td>\n",
              "      <td>hyper décevant</td>\n",
              "    </tr>\n",
              "    <tr>\n",
              "      <th>168896</th>\n",
              "      <td>Elodie</td>\n",
              "      <td>5.0</td>\n",
              "      <td>: 28 décembre 2014</td>\n",
              "      <td>2014-12-28</td>\n",
              "      <td>5.0</td>\n",
              "      <td>jamais été déçu par le site je suis une nouvel...</td>\n",
              "      <td>FR</td>\n",
              "      <td>tres bien comme d'habitude</td>\n",
              "    </tr>\n",
              "  </tbody>\n",
              "</table>\n",
              "<p>168897 rows × 8 columns</p>\n",
              "</div>"
            ],
            "text/plain": [
              "              nom_client  note_avis          date_achat   date_avis  nbr_avis  \\\n",
              "0                  Agani        1.0      : 26 août 2022  2023-02-27       2.0   \n",
              "1       CHANTAL SLATKINE        1.0   : 26 février 2023  2023-02-27       2.0   \n",
              "2                    LDC        1.0   : 26 février 2023  2023-02-27       2.0   \n",
              "3           anass jeffal        1.0   : 27 octobre 2022  2023-02-27       1.0   \n",
              "4               aurélien        1.0   : 27 février 2023  2023-02-27       1.0   \n",
              "...                  ...        ...                 ...         ...       ...   \n",
              "168892             Marie        4.0  : 28 décembre 2014  2014-12-28       1.0   \n",
              "168893            Celine        4.0  : 28 décembre 2014  2014-12-28       1.0   \n",
              "168894          Da costa        2.0  : 28 décembre 2014  2014-12-28       1.0   \n",
              "168895             Marie        1.0  : 28 décembre 2014  2014-12-28       1.0   \n",
              "168896            Elodie        5.0  : 28 décembre 2014  2014-12-28       5.0   \n",
              "\n",
              "                                                text_avis pays  \\\n",
              "0       Je n’ai jamais reçu ma commande. J’ai écris à ...   FR   \n",
              "1       J'ai commandé 2 colliers. L'un est OK l'autre ...   FR   \n",
              "2       J ai commandé des airpods reconditionnés, dit ...   FR   \n",
              "3       Produit acheté en Septembre 2022 retourné le m...   FR   \n",
              "4       encore une commande partiellement annulée au d...   FR   \n",
              "...                                                   ...  ...   \n",
              "168892                  Je suis satisfaite de ma commande   FR   \n",
              "168893  Très bien et très rapide\\nJe suis satisfaite d...   FR   \n",
              "168894  J'ai commandé mi octobre pour pouvoir recevoir...   FR   \n",
              "168895  lorsque j'ai vu la toile sur le site, cela m'a...   FR   \n",
              "168896  jamais été déçu par le site je suis une nouvel...   FR   \n",
              "\n",
              "                                          titre_avis  \n",
              "0                    Je n’ai jamais reçu ma commande  \n",
              "1                           J'ai commandé 2 colliers  \n",
              "2                Très déçue de la dernière commande.  \n",
              "3                  Produit acheté en Septembre 2022…  \n",
              "4                 encore une commande partiellement…  \n",
              "...                                              ...  \n",
              "168892                                    satisfaite  \n",
              "168893                      excellent et très rapide  \n",
              "168894  Aujourd'hui je n'ai toujours pas ma commande  \n",
              "168895                                hyper décevant  \n",
              "168896                    tres bien comme d'habitude  \n",
              "\n",
              "[168897 rows x 8 columns]"
            ]
          },
          "execution_count": 2,
          "metadata": {},
          "output_type": "execute_result"
        }
      ],
      "source": [
        "\n",
        "df = pd.read_csv('showroom_trustpilot_168897_07 mars.csv')\n",
        "df"
      ]
    },
    {
      "cell_type": "markdown",
      "id": "f02d96e7",
      "metadata": {
        "id": "f02d96e7"
      },
      "source": [
        "# Analyse rapide du dataframe et exploration des données\n"
      ]
    },
    {
      "cell_type": "code",
      "execution_count": null,
      "id": "b520da98",
      "metadata": {
        "id": "b520da98",
        "outputId": "cf0f4d93-b658-456e-81e6-e554e9f3ab12"
      },
      "outputs": [
        {
          "name": "stdout",
          "output_type": "stream",
          "text": [
            "<class 'pandas.core.frame.DataFrame'>\n",
            "RangeIndex: 168897 entries, 0 to 168896\n",
            "Data columns (total 8 columns):\n",
            " #   Column      Non-Null Count   Dtype  \n",
            "---  ------      --------------   -----  \n",
            " 0   nom_client  168896 non-null  object \n",
            " 1   note_avis   168896 non-null  float64\n",
            " 2   date_achat  168896 non-null  object \n",
            " 3   date_avis   168896 non-null  object \n",
            " 4   nbr_avis    168895 non-null  float64\n",
            " 5   text_avis   168895 non-null  object \n",
            " 6   pays        168895 non-null  object \n",
            " 7   titre_avis  168893 non-null  object \n",
            "dtypes: float64(2), object(6)\n",
            "memory usage: 10.3+ MB\n"
          ]
        },
        {
          "data": {
            "text/plain": [
              "None"
            ]
          },
          "metadata": {},
          "output_type": "display_data"
        },
        {
          "data": {
            "text/plain": [
              "nom_client    1\n",
              "note_avis     1\n",
              "date_achat    1\n",
              "date_avis     1\n",
              "nbr_avis      2\n",
              "text_avis     2\n",
              "pays          2\n",
              "titre_avis    4\n",
              "dtype: int64"
            ]
          },
          "metadata": {},
          "output_type": "display_data"
        },
        {
          "name": "stdout",
          "output_type": "stream",
          "text": [
            "le nombre de doublons est: 337\n"
          ]
        },
        {
          "data": {
            "text/plain": [
              "None"
            ]
          },
          "metadata": {},
          "output_type": "display_data"
        }
      ],
      "source": [
        "display(df.info())\n",
        "\n",
        "display(df.isna().sum())\n",
        "\n",
        "display(print('le nombre de doublons est:', df.duplicated().sum()))"
      ]
    },
    {
      "cell_type": "code",
      "execution_count": null,
      "id": "31086f89",
      "metadata": {
        "id": "31086f89",
        "outputId": "6b3cfb3b-5586-4db0-b4e7-b220511b5384"
      },
      "outputs": [
        {
          "data": {
            "text/plain": [
              "nom_client    0\n",
              "note_avis     0\n",
              "date_achat    0\n",
              "date_avis     0\n",
              "nbr_avis      0\n",
              "text_avis     0\n",
              "pays          0\n",
              "titre_avis    0\n",
              "dtype: int64"
            ]
          },
          "execution_count": 4,
          "metadata": {},
          "output_type": "execute_result"
        }
      ],
      "source": [
        "df.dropna(inplace=True)\n",
        "df.isna().sum()\n",
        "# les NaN sont peu nombreux et supprimés"
      ]
    },
    {
      "cell_type": "code",
      "execution_count": null,
      "id": "002ab94a",
      "metadata": {
        "id": "002ab94a"
      },
      "outputs": [],
      "source": [
        "df.drop_duplicates(inplace=True)"
      ]
    },
    {
      "cell_type": "code",
      "execution_count": null,
      "id": "8d1ab6ac",
      "metadata": {
        "id": "8d1ab6ac",
        "outputId": "d2969078-99d0-466e-d0a4-3322eb727665"
      },
      "outputs": [
        {
          "data": {
            "text/plain": [
              "0"
            ]
          },
          "execution_count": 6,
          "metadata": {},
          "output_type": "execute_result"
        }
      ],
      "source": [
        "df.duplicated().sum()\n",
        "# tout les doublons sont supprimés"
      ]
    },
    {
      "cell_type": "markdown",
      "id": "54058185",
      "metadata": {
        "id": "54058185"
      },
      "source": [
        "# choix de l'intervalle de dates\n",
        "\n",
        "dans ce dataframe, les avis sont postés depuis fin décembre 2014 jusqu'à février 2023\n",
        "nous allons nous intéresser aux années civiles complètes. Donc nous prendrons les dates\n",
        "du 01 janvier 2015 jusqu'au 31 décembre 2022\n",
        "\n",
        "Ceci nous facilitera les comparaisons en fonction des années, des mois et pour avoir des saisons complètes.\n"
      ]
    },
    {
      "cell_type": "code",
      "execution_count": null,
      "id": "2d2f51d7",
      "metadata": {
        "id": "2d2f51d7",
        "outputId": "dbeb617b-7897-46ac-be65-fa931f38594d"
      },
      "outputs": [
        {
          "data": {
            "text/html": [
              "<div>\n",
              "<style scoped>\n",
              "    .dataframe tbody tr th:only-of-type {\n",
              "        vertical-align: middle;\n",
              "    }\n",
              "\n",
              "    .dataframe tbody tr th {\n",
              "        vertical-align: top;\n",
              "    }\n",
              "\n",
              "    .dataframe thead th {\n",
              "        text-align: right;\n",
              "    }\n",
              "</style>\n",
              "<table border=\"1\" class=\"dataframe\">\n",
              "  <thead>\n",
              "    <tr style=\"text-align: right;\">\n",
              "      <th></th>\n",
              "      <th>nom_client</th>\n",
              "      <th>note_avis</th>\n",
              "      <th>date_achat</th>\n",
              "      <th>date_avis</th>\n",
              "      <th>nbr_avis</th>\n",
              "      <th>text_avis</th>\n",
              "      <th>pays</th>\n",
              "      <th>titre_avis</th>\n",
              "    </tr>\n",
              "  </thead>\n",
              "  <tbody>\n",
              "    <tr>\n",
              "      <th>0</th>\n",
              "      <td>Keira</td>\n",
              "      <td>1.0</td>\n",
              "      <td>: 28 décembre 2022</td>\n",
              "      <td>2022-12-31</td>\n",
              "      <td>4.0</td>\n",
              "      <td>Colis non livré et pour mener des investigatio...</td>\n",
              "      <td>FR</td>\n",
              "      <td>Colis non livré et pour mener des…</td>\n",
              "    </tr>\n",
              "    <tr>\n",
              "      <th>1</th>\n",
              "      <td>Pauline</td>\n",
              "      <td>1.0</td>\n",
              "      <td>: 29 décembre 2022</td>\n",
              "      <td>2022-12-31</td>\n",
              "      <td>1.0</td>\n",
              "      <td>Date de l'expérience: 29 décembre 2022</td>\n",
              "      <td>FR</td>\n",
              "      <td>Mauvais article reçu</td>\n",
              "    </tr>\n",
              "    <tr>\n",
              "      <th>2</th>\n",
              "      <td>Client</td>\n",
              "      <td>3.0</td>\n",
              "      <td>: 30 décembre 2022</td>\n",
              "      <td>2022-12-31</td>\n",
              "      <td>5.0</td>\n",
              "      <td>Les tailles de cette marque sont totalement di...</td>\n",
              "      <td>FR</td>\n",
              "      <td>Les tailles de cette marque sont…beaucoup plus...</td>\n",
              "    </tr>\n",
              "    <tr>\n",
              "      <th>3</th>\n",
              "      <td>Brigitte Noel-tiprez</td>\n",
              "      <td>3.0</td>\n",
              "      <td>: 31 décembre 2022</td>\n",
              "      <td>2022-12-31</td>\n",
              "      <td>4.0</td>\n",
              "      <td>Le problème c'est la livraison trop loin du do...</td>\n",
              "      <td>FR</td>\n",
              "      <td>Le problème c'est la livraison trop…</td>\n",
              "    </tr>\n",
              "    <tr>\n",
              "      <th>4</th>\n",
              "      <td>Lili</td>\n",
              "      <td>5.0</td>\n",
              "      <td>: 26 décembre 2022</td>\n",
              "      <td>2022-12-31</td>\n",
              "      <td>1.0</td>\n",
              "      <td>Commande reçue rapidement. J’ai reçu les infor...</td>\n",
              "      <td>FR</td>\n",
              "      <td>Commande reçue rapidement</td>\n",
              "    </tr>\n",
              "    <tr>\n",
              "      <th>...</th>\n",
              "      <td>...</td>\n",
              "      <td>...</td>\n",
              "      <td>...</td>\n",
              "      <td>...</td>\n",
              "      <td>...</td>\n",
              "      <td>...</td>\n",
              "      <td>...</td>\n",
              "      <td>...</td>\n",
              "    </tr>\n",
              "    <tr>\n",
              "      <th>165962</th>\n",
              "      <td>Bruno</td>\n",
              "      <td>1.0</td>\n",
              "      <td>: 29 décembre 2014</td>\n",
              "      <td>2015-01-05</td>\n",
              "      <td>1.0</td>\n",
              "      <td>Article livré en retard et endomagé</td>\n",
              "      <td>FR</td>\n",
              "      <td>S'abstenir</td>\n",
              "    </tr>\n",
              "    <tr>\n",
              "      <th>165963</th>\n",
              "      <td>M�lanie</td>\n",
              "      <td>5.0</td>\n",
              "      <td>: 28 décembre 2014</td>\n",
              "      <td>2015-01-23</td>\n",
              "      <td>1.0</td>\n",
              "      <td>tout s'est bien passé !</td>\n",
              "      <td>FR</td>\n",
              "      <td>super</td>\n",
              "    </tr>\n",
              "    <tr>\n",
              "      <th>165964</th>\n",
              "      <td>Jenny</td>\n",
              "      <td>2.0</td>\n",
              "      <td>: 28 décembre 2014</td>\n",
              "      <td>2015-01-19</td>\n",
              "      <td>9.0</td>\n",
              "      <td>C'est la première fois que je suis déçu par un...</td>\n",
              "      <td>FR</td>\n",
              "      <td>pendentif perle</td>\n",
              "    </tr>\n",
              "    <tr>\n",
              "      <th>165965</th>\n",
              "      <td>Angeline</td>\n",
              "      <td>3.0</td>\n",
              "      <td>: 28 décembre 2014</td>\n",
              "      <td>2015-01-06</td>\n",
              "      <td>2.0</td>\n",
              "      <td>La commande recue ne vaut vraiment pas plus qu...</td>\n",
              "      <td>FR</td>\n",
              "      <td>Mauvaise qualité</td>\n",
              "    </tr>\n",
              "    <tr>\n",
              "      <th>165966</th>\n",
              "      <td>Annick</td>\n",
              "      <td>5.0</td>\n",
              "      <td>: 28 décembre 2014</td>\n",
              "      <td>2015-01-23</td>\n",
              "      <td>3.0</td>\n",
              "      <td>satisfaite de mes achats</td>\n",
              "      <td>FR</td>\n",
              "      <td>excellent</td>\n",
              "    </tr>\n",
              "  </tbody>\n",
              "</table>\n",
              "<p>165967 rows × 8 columns</p>\n",
              "</div>"
            ],
            "text/plain": [
              "                  nom_client  note_avis          date_achat  date_avis  \\\n",
              "0                      Keira        1.0  : 28 décembre 2022 2022-12-31   \n",
              "1                    Pauline        1.0  : 29 décembre 2022 2022-12-31   \n",
              "2                     Client        3.0  : 30 décembre 2022 2022-12-31   \n",
              "3       Brigitte Noel-tiprez        3.0  : 31 décembre 2022 2022-12-31   \n",
              "4                       Lili        5.0  : 26 décembre 2022 2022-12-31   \n",
              "...                      ...        ...                 ...        ...   \n",
              "165962                 Bruno        1.0  : 29 décembre 2014 2015-01-05   \n",
              "165963               M�lanie        5.0  : 28 décembre 2014 2015-01-23   \n",
              "165964                 Jenny        2.0  : 28 décembre 2014 2015-01-19   \n",
              "165965              Angeline        3.0  : 28 décembre 2014 2015-01-06   \n",
              "165966                Annick        5.0  : 28 décembre 2014 2015-01-23   \n",
              "\n",
              "        nbr_avis                                          text_avis pays  \\\n",
              "0            4.0  Colis non livré et pour mener des investigatio...   FR   \n",
              "1            1.0             Date de l'expérience: 29 décembre 2022   FR   \n",
              "2            5.0  Les tailles de cette marque sont totalement di...   FR   \n",
              "3            4.0  Le problème c'est la livraison trop loin du do...   FR   \n",
              "4            1.0  Commande reçue rapidement. J’ai reçu les infor...   FR   \n",
              "...          ...                                                ...  ...   \n",
              "165962       1.0                Article livré en retard et endomagé   FR   \n",
              "165963       1.0                            tout s'est bien passé !   FR   \n",
              "165964       9.0  C'est la première fois que je suis déçu par un...   FR   \n",
              "165965       2.0  La commande recue ne vaut vraiment pas plus qu...   FR   \n",
              "165966       3.0                           satisfaite de mes achats   FR   \n",
              "\n",
              "                                               titre_avis  \n",
              "0                      Colis non livré et pour mener des…  \n",
              "1                                    Mauvais article reçu  \n",
              "2       Les tailles de cette marque sont…beaucoup plus...  \n",
              "3                    Le problème c'est la livraison trop…  \n",
              "4                               Commande reçue rapidement  \n",
              "...                                                   ...  \n",
              "165962                                         S'abstenir  \n",
              "165963                                              super  \n",
              "165964                                    pendentif perle  \n",
              "165965                                   Mauvaise qualité  \n",
              "165966                                          excellent  \n",
              "\n",
              "[165967 rows x 8 columns]"
            ]
          },
          "execution_count": 13,
          "metadata": {},
          "output_type": "execute_result"
        }
      ],
      "source": [
        "df = df[ (df['date_avis']>='2015-01-01') & ( df['date_avis']<='2022-12-31') ]\n",
        "df"
      ]
    },
    {
      "cell_type": "code",
      "execution_count": null,
      "id": "2d4a3925",
      "metadata": {
        "id": "2d4a3925",
        "outputId": "7cc57cec-28a8-4907-e43a-70e66bb89d4b"
      },
      "outputs": [
        {
          "data": {
            "text/plain": [
              "0        2022-12-31\n",
              "1        2022-12-31\n",
              "2        2022-12-31\n",
              "3        2022-12-31\n",
              "4        2022-12-31\n",
              "            ...    \n",
              "165962   2015-01-05\n",
              "165963   2015-01-23\n",
              "165964   2015-01-19\n",
              "165965   2015-01-06\n",
              "165966   2015-01-23\n",
              "Name: date_avis, Length: 165967, dtype: datetime64[ns]"
            ]
          },
          "execution_count": 15,
          "metadata": {},
          "output_type": "execute_result"
        }
      ],
      "source": [
        "df['date_avis'] = pd.to_datetime(df['date_avis'])\n",
        "df['date_avis']"
      ]
    },
    {
      "cell_type": "code",
      "execution_count": null,
      "id": "10562252",
      "metadata": {
        "id": "10562252"
      },
      "outputs": [],
      "source": [
        "# Réinitialisation de l'indes de df,\n",
        "# les lignes supprimées ont créé un index discontinu en valeurs\n",
        "\n",
        "df.reset_index(drop=True, inplace=True)"
      ]
    },
    {
      "cell_type": "code",
      "execution_count": null,
      "id": "c01ce4e3",
      "metadata": {
        "id": "c01ce4e3",
        "outputId": "311c789c-699c-43bb-b907-2c48eabc8b85"
      },
      "outputs": [
        {
          "name": "stderr",
          "output_type": "stream",
          "text": [
            "C:\\Users\\Lenovo\\anaconda3\\lib\\site-packages\\seaborn\\_decorators.py:36: FutureWarning: Pass the following variable as a keyword arg: x. From version 0.12, the only valid positional argument will be `data`, and passing other arguments without an explicit keyword will result in an error or misinterpretation.\n",
            "  warnings.warn(\n",
            "C:\\Users\\Lenovo\\anaconda3\\lib\\site-packages\\seaborn\\_decorators.py:36: FutureWarning: Pass the following variable as a keyword arg: x. From version 0.12, the only valid positional argument will be `data`, and passing other arguments without an explicit keyword will result in an error or misinterpretation.\n",
            "  warnings.warn(\n",
            "C:\\Users\\Lenovo\\anaconda3\\lib\\site-packages\\seaborn\\_decorators.py:36: FutureWarning: Pass the following variable as a keyword arg: x. From version 0.12, the only valid positional argument will be `data`, and passing other arguments without an explicit keyword will result in an error or misinterpretation.\n",
            "  warnings.warn(\n"
          ]
        },
        {
          "name": "stdout",
          "output_type": "stream",
          "text": [
            "\n",
            "\n"
          ]
        },
        {
          "data": {
            "image/png": "[encoded data removed]",
            "text/plain": [
              "<Figure size 1200x800 with 3 Axes>"
            ]
          },
          "metadata": {},
          "output_type": "display_data"
        }
      ],
      "source": [
        "plt.figure(figsize=(12,8))\n",
        "\n",
        "plt.subplot(3,1,1)\n",
        "sns.countplot( df['date_avis'].dt.year);\n",
        "print()\n",
        "plt.subplot(3,1,2)\n",
        "sns.countplot( df['date_avis'].dt.month);\n",
        "print()\n",
        "plt.subplot(3,1,3)\n",
        "sns.countplot( df['date_avis'].dt.day);"
      ]
    },
    {
      "cell_type": "code",
      "execution_count": null,
      "id": "db2de455",
      "metadata": {
        "id": "db2de455",
        "outputId": "0511b6c5-7afe-4294-d479-330ea70d5a37"
      },
      "outputs": [
        {
          "data": {
            "text/plain": [
              "2016    72261\n",
              "2015    71925\n",
              "2017    11727\n",
              "2022     6843\n",
              "2020     1212\n",
              "2021     1089\n",
              "2019      573\n",
              "2018      337\n",
              "Name: date_avis, dtype: int64"
            ]
          },
          "execution_count": 11,
          "metadata": {},
          "output_type": "execute_result"
        }
      ],
      "source": [
        "df['date_avis'].dt.year.value_counts()"
      ]
    },
    {
      "cell_type": "markdown",
      "id": "6647dbf7",
      "metadata": {
        "id": "6647dbf7"
      },
      "source": [
        "\n",
        "\n",
        "# Analyse des graphique des avis en fonction des dates\n",
        "\n",
        "Dans le graphique en countplot, en fonction des années, nous remarquons un nombre très élevé d'avis postés pour l'année 2015 et 2016.\n",
        "pour les autres années, le nombre d'avis ne semble pas suivre une courbe ou une tendance, il est assez dispersé.\n",
        "\n",
        "\n",
        "Au cours d'une année, les avis publiés sont nombreux les premiers mois de l'année ( janvier à mars) et en\n",
        "fin d'année (novembre et décembre)\n",
        "\n",
        "pour les mois de avril et mai, le nombre d'avis postés diminue par rapport aux mois cités ci-dessus\n",
        "et plus nombreux que les mois de ( juin à octobre)\n",
        "\n",
        "Au cours d'un mois, la distribution du nombre d'avis ne semble pas dégager une tendance particulière, c'est globalement\n",
        "partout pareil.\n",
        "sur le graphique nous constatons que le jour numéro 31 est moins élevé que les autres, ceci est dû au fait que\n",
        "seuls 7 mois de l'année sont comptabilisés en jour 31.\n"
      ]
    },
    {
      "cell_type": "code",
      "execution_count": null,
      "id": "028946dc",
      "metadata": {
        "id": "028946dc",
        "outputId": "43f430cd-2684-4236-ab2e-78ef8e6ff341"
      },
      "outputs": [
        {
          "data": {
            "text/plain": [
              "5.0    56219\n",
              "4.0    43154\n",
              "3.0    30136\n",
              "1.0    21344\n",
              "2.0    15114\n",
              "Name: note_avis, dtype: int64"
            ]
          },
          "metadata": {},
          "output_type": "display_data"
        },
        {
          "data": {
            "text/plain": [
              "5.0    34.0%\n",
              "4.0    26.0%\n",
              "3.0    18.0%\n",
              "1.0    13.0%\n",
              "2.0     9.0%\n",
              "Name: note_avis, dtype: object"
            ]
          },
          "metadata": {},
          "output_type": "display_data"
        }
      ],
      "source": [
        "display(df['note_avis'].value_counts())\n",
        "\n",
        "display( ((df['note_avis'].value_counts(normalize=True).round(2)) *100).astype(str) + '%' )"
      ]
    },
    {
      "cell_type": "code",
      "execution_count": null,
      "id": "ecef03ca",
      "metadata": {
        "id": "ecef03ca"
      },
      "outputs": [],
      "source": [
        "df_5_etoiles = df[df['note_avis']==5]\n",
        "df_4_etoiles = df[df['note_avis']==4]\n",
        "df_3_etoiles = df[df['note_avis']==3]\n",
        "df_2_etoiles = df[df['note_avis']==2]\n",
        "df_1_etoiles = df[df['note_avis']==1]\n",
        "\n"
      ]
    },
    {
      "cell_type": "code",
      "execution_count": null,
      "id": "32ffef60",
      "metadata": {
        "id": "32ffef60"
      },
      "outputs": [],
      "source": [
        "# calculer les moyennes des notes en mensuel/anné/ et la comparer avec la moyenne générale\n",
        "# voir si on peut dégager des  saisonnalités/tendance/caractéristiques/\n",
        "\n",
        "# approfondir la question du nombres d'avis en 2015/ 2016"
      ]
    }
  ],
  "metadata": {
    "kernelspec": {
      "display_name": "Python 3 (ipykernel)",
      "language": "python",
      "name": "python3"
    },
    "language_info": {
      "codemirror_mode": {
        "name": "ipython",
        "version": 3
      },
      "file_extension": ".py",
      "mimetype": "text/x-python",
      "name": "python",
      "nbconvert_exporter": "python",
      "pygments_lexer": "ipython3",
      "version": "3.9.13"
    },
    "colab": {
      "provenance": [],
      "include_colab_link": true
    }
  },
  "nbformat": 4,
  "nbformat_minor": 5
}
